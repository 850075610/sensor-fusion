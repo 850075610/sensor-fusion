{
 "cells": [
  {
   "cell_type": "code",
   "execution_count": 52,
   "id": "a3ae5ab7",
   "metadata": {},
   "outputs": [],
   "source": [
    "import math\n",
    "import pandas as pd\n",
    "import numpy as np\n",
    "import matplotlib.pyplot as plt\n",
    "import seaborn as sns\n",
    "from sklearn.metrics import mean_squared_error\n",
    "# read from csv and save corresponding column data to variables\n",
    "df = pd.read_csv('pose1.csv')\n",
    "# transfer unit to meter\n",
    "y = df.y.div(1000)\n",
    "x = df.x.div(1000)\n",
    "dist0 = df.dist\n",
    "l = len(y)"
   ]
  },
  {
   "cell_type": "code",
   "execution_count": 53,
   "id": "bf78b4fa",
   "metadata": {},
   "outputs": [
    {
     "data": {
      "text/html": [
       "<div>\n",
       "<style scoped>\n",
       "    .dataframe tbody tr th:only-of-type {\n",
       "        vertical-align: middle;\n",
       "    }\n",
       "\n",
       "    .dataframe tbody tr th {\n",
       "        vertical-align: top;\n",
       "    }\n",
       "\n",
       "    .dataframe thead th {\n",
       "        text-align: right;\n",
       "    }\n",
       "</style>\n",
       "<table border=\"1\" class=\"dataframe\">\n",
       "  <thead>\n",
       "    <tr style=\"text-align: right;\">\n",
       "      <th></th>\n",
       "      <th>x</th>\n",
       "      <th>y</th>\n",
       "      <th>z</th>\n",
       "      <th>q</th>\n",
       "      <th>Unnamed: 4</th>\n",
       "      <th>act_x</th>\n",
       "      <th>act_y</th>\n",
       "      <th>dist</th>\n",
       "    </tr>\n",
       "  </thead>\n",
       "  <tbody>\n",
       "    <tr>\n",
       "      <th>0</th>\n",
       "      <td>3963</td>\n",
       "      <td>2483</td>\n",
       "      <td>333</td>\n",
       "      <td>82</td>\n",
       "      <td>NaN</td>\n",
       "      <td>3.916</td>\n",
       "      <td>2.465</td>\n",
       "      <td>0.050329</td>\n",
       "    </tr>\n",
       "    <tr>\n",
       "      <th>1</th>\n",
       "      <td>3958</td>\n",
       "      <td>2480</td>\n",
       "      <td>342</td>\n",
       "      <td>83</td>\n",
       "      <td>NaN</td>\n",
       "      <td>NaN</td>\n",
       "      <td>NaN</td>\n",
       "      <td>0.044598</td>\n",
       "    </tr>\n",
       "    <tr>\n",
       "      <th>2</th>\n",
       "      <td>3941</td>\n",
       "      <td>2464</td>\n",
       "      <td>292</td>\n",
       "      <td>78</td>\n",
       "      <td>NaN</td>\n",
       "      <td>NaN</td>\n",
       "      <td>NaN</td>\n",
       "      <td>0.025020</td>\n",
       "    </tr>\n",
       "    <tr>\n",
       "      <th>3</th>\n",
       "      <td>3929</td>\n",
       "      <td>2466</td>\n",
       "      <td>282</td>\n",
       "      <td>81</td>\n",
       "      <td>NaN</td>\n",
       "      <td>NaN</td>\n",
       "      <td>NaN</td>\n",
       "      <td>0.013038</td>\n",
       "    </tr>\n",
       "    <tr>\n",
       "      <th>4</th>\n",
       "      <td>3940</td>\n",
       "      <td>2489</td>\n",
       "      <td>312</td>\n",
       "      <td>84</td>\n",
       "      <td>NaN</td>\n",
       "      <td>NaN</td>\n",
       "      <td>NaN</td>\n",
       "      <td>0.033941</td>\n",
       "    </tr>\n",
       "    <tr>\n",
       "      <th>...</th>\n",
       "      <td>...</td>\n",
       "      <td>...</td>\n",
       "      <td>...</td>\n",
       "      <td>...</td>\n",
       "      <td>...</td>\n",
       "      <td>...</td>\n",
       "      <td>...</td>\n",
       "      <td>...</td>\n",
       "    </tr>\n",
       "    <tr>\n",
       "      <th>383</th>\n",
       "      <td>3945</td>\n",
       "      <td>2449</td>\n",
       "      <td>283</td>\n",
       "      <td>81</td>\n",
       "      <td>NaN</td>\n",
       "      <td>NaN</td>\n",
       "      <td>NaN</td>\n",
       "      <td>0.033121</td>\n",
       "    </tr>\n",
       "    <tr>\n",
       "      <th>384</th>\n",
       "      <td>3959</td>\n",
       "      <td>2450</td>\n",
       "      <td>280</td>\n",
       "      <td>81</td>\n",
       "      <td>NaN</td>\n",
       "      <td>NaN</td>\n",
       "      <td>NaN</td>\n",
       "      <td>0.045541</td>\n",
       "    </tr>\n",
       "    <tr>\n",
       "      <th>385</th>\n",
       "      <td>3954</td>\n",
       "      <td>2443</td>\n",
       "      <td>284</td>\n",
       "      <td>81</td>\n",
       "      <td>NaN</td>\n",
       "      <td>NaN</td>\n",
       "      <td>NaN</td>\n",
       "      <td>0.043909</td>\n",
       "    </tr>\n",
       "    <tr>\n",
       "      <th>386</th>\n",
       "      <td>3936</td>\n",
       "      <td>2441</td>\n",
       "      <td>278</td>\n",
       "      <td>81</td>\n",
       "      <td>NaN</td>\n",
       "      <td>NaN</td>\n",
       "      <td>NaN</td>\n",
       "      <td>0.031241</td>\n",
       "    </tr>\n",
       "    <tr>\n",
       "      <th>387</th>\n",
       "      <td>3922</td>\n",
       "      <td>2447</td>\n",
       "      <td>248</td>\n",
       "      <td>79</td>\n",
       "      <td>NaN</td>\n",
       "      <td>NaN</td>\n",
       "      <td>NaN</td>\n",
       "      <td>0.018974</td>\n",
       "    </tr>\n",
       "  </tbody>\n",
       "</table>\n",
       "<p>388 rows × 8 columns</p>\n",
       "</div>"
      ],
      "text/plain": [
       "        x     y    z   q  Unnamed: 4  act_x  act_y      dist\n",
       "0    3963  2483  333  82         NaN  3.916  2.465  0.050329\n",
       "1    3958  2480  342  83         NaN    NaN    NaN  0.044598\n",
       "2    3941  2464  292  78         NaN    NaN    NaN  0.025020\n",
       "3    3929  2466  282  81         NaN    NaN    NaN  0.013038\n",
       "4    3940  2489  312  84         NaN    NaN    NaN  0.033941\n",
       "..    ...   ...  ...  ..         ...    ...    ...       ...\n",
       "383  3945  2449  283  81         NaN    NaN    NaN  0.033121\n",
       "384  3959  2450  280  81         NaN    NaN    NaN  0.045541\n",
       "385  3954  2443  284  81         NaN    NaN    NaN  0.043909\n",
       "386  3936  2441  278  81         NaN    NaN    NaN  0.031241\n",
       "387  3922  2447  248  79         NaN    NaN    NaN  0.018974\n",
       "\n",
       "[388 rows x 8 columns]"
      ]
     },
     "execution_count": 53,
     "metadata": {},
     "output_type": "execute_result"
    }
   ],
   "source": [
    "df"
   ]
  },
  {
   "cell_type": "code",
   "execution_count": 59,
   "id": "b5404587",
   "metadata": {},
   "outputs": [
    {
     "data": {
      "text/plain": [
       "pandas.core.series.Series"
      ]
     },
     "execution_count": 59,
     "metadata": {},
     "output_type": "execute_result"
    }
   ],
   "source": [
    "type(dist0)"
   ]
  },
  {
   "cell_type": "code",
   "execution_count": 22,
   "id": "da625dd5",
   "metadata": {},
   "outputs": [
    {
     "data": {
      "text/plain": [
       "388"
      ]
     },
     "execution_count": 22,
     "metadata": {},
     "output_type": "execute_result"
    }
   ],
   "source": [
    "l"
   ]
  },
  {
   "cell_type": "code",
   "execution_count": 23,
   "id": "f2e2eb52",
   "metadata": {},
   "outputs": [
    {
     "data": {
      "text/plain": [
       "pandas.core.series.Series"
      ]
     },
     "execution_count": 23,
     "metadata": {},
     "output_type": "execute_result"
    }
   ],
   "source": [
    "type(y)"
   ]
  },
  {
   "cell_type": "code",
   "execution_count": 24,
   "id": "482fce10",
   "metadata": {},
   "outputs": [],
   "source": [
    "# ground truth y\n",
    "g_y = pd.Series([2.465] * l)\n",
    "g_x = pd.Series([3.916] * l)"
   ]
  },
  {
   "cell_type": "code",
   "execution_count": 25,
   "id": "b15446e5",
   "metadata": {},
   "outputs": [
    {
     "data": {
      "text/plain": [
       "0      2.465\n",
       "1      2.465\n",
       "2      2.465\n",
       "3      2.465\n",
       "4      2.465\n",
       "       ...  \n",
       "383    2.465\n",
       "384    2.465\n",
       "385    2.465\n",
       "386    2.465\n",
       "387    2.465\n",
       "Length: 388, dtype: float64"
      ]
     },
     "execution_count": 25,
     "metadata": {},
     "output_type": "execute_result"
    }
   ],
   "source": [
    "g_y"
   ]
  },
  {
   "cell_type": "code",
   "execution_count": 26,
   "id": "852a0c91",
   "metadata": {},
   "outputs": [
    {
     "data": {
      "text/plain": [
       "0      2.483\n",
       "1      2.480\n",
       "2      2.464\n",
       "3      2.466\n",
       "4      2.489\n",
       "       ...  \n",
       "383    2.449\n",
       "384    2.450\n",
       "385    2.443\n",
       "386    2.441\n",
       "387    2.447\n",
       "Name: y, Length: 388, dtype: float64"
      ]
     },
     "execution_count": 26,
     "metadata": {},
     "output_type": "execute_result"
    }
   ],
   "source": [
    "y"
   ]
  },
  {
   "cell_type": "code",
   "execution_count": 27,
   "id": "65f2284f",
   "metadata": {},
   "outputs": [
    {
     "data": {
      "text/plain": [
       "0      3.963\n",
       "1      3.958\n",
       "2      3.941\n",
       "3      3.929\n",
       "4      3.940\n",
       "       ...  \n",
       "383    3.945\n",
       "384    3.959\n",
       "385    3.954\n",
       "386    3.936\n",
       "387    3.922\n",
       "Name: x, Length: 388, dtype: float64"
      ]
     },
     "execution_count": 27,
     "metadata": {},
     "output_type": "execute_result"
    }
   ],
   "source": [
    "x"
   ]
  },
  {
   "cell_type": "code",
   "execution_count": 28,
   "id": "8e5fa205",
   "metadata": {},
   "outputs": [
    {
     "data": {
      "text/plain": [
       "0      3.916\n",
       "1      3.916\n",
       "2      3.916\n",
       "3      3.916\n",
       "4      3.916\n",
       "       ...  \n",
       "383    3.916\n",
       "384    3.916\n",
       "385    3.916\n",
       "386    3.916\n",
       "387    3.916\n",
       "Length: 388, dtype: float64"
      ]
     },
     "execution_count": 28,
     "metadata": {},
     "output_type": "execute_result"
    }
   ],
   "source": [
    "g_x"
   ]
  },
  {
   "cell_type": "code",
   "execution_count": 29,
   "id": "e8427877",
   "metadata": {},
   "outputs": [],
   "source": [
    "rmse_y = mean_squared_error(y, g_y)"
   ]
  },
  {
   "cell_type": "code",
   "execution_count": 30,
   "id": "1fef5ccf",
   "metadata": {},
   "outputs": [],
   "source": [
    "rmse_x = mean_squared_error(x, g_x)"
   ]
  },
  {
   "cell_type": "code",
   "execution_count": 31,
   "id": "fc6d6f96",
   "metadata": {},
   "outputs": [],
   "source": [
    "rmse_net = math.sqrt(rmse_x**2 + rmse_y**2)"
   ]
  },
  {
   "cell_type": "code",
   "execution_count": 32,
   "id": "9557f87d",
   "metadata": {},
   "outputs": [
    {
     "data": {
      "text/plain": [
       "0.0008377259959862514"
      ]
     },
     "execution_count": 32,
     "metadata": {},
     "output_type": "execute_result"
    }
   ],
   "source": [
    "rmse_net"
   ]
  },
  {
   "cell_type": "code",
   "execution_count": 54,
   "id": "f60e5f65",
   "metadata": {},
   "outputs": [],
   "source": [
    "df1 = pd.read_csv('pose2.csv')\n",
    "# transfer unit to meter\n",
    "y1 = df1.y.div(1000)\n",
    "x1 = df1.x.div(1000)\n",
    "dist1 = df1.dist\n",
    "l1 = len(y1)"
   ]
  },
  {
   "cell_type": "code",
   "execution_count": 55,
   "id": "dc6e05e1",
   "metadata": {},
   "outputs": [
    {
     "data": {
      "text/html": [
       "<div>\n",
       "<style scoped>\n",
       "    .dataframe tbody tr th:only-of-type {\n",
       "        vertical-align: middle;\n",
       "    }\n",
       "\n",
       "    .dataframe tbody tr th {\n",
       "        vertical-align: top;\n",
       "    }\n",
       "\n",
       "    .dataframe thead th {\n",
       "        text-align: right;\n",
       "    }\n",
       "</style>\n",
       "<table border=\"1\" class=\"dataframe\">\n",
       "  <thead>\n",
       "    <tr style=\"text-align: right;\">\n",
       "      <th></th>\n",
       "      <th>x</th>\n",
       "      <th>y</th>\n",
       "      <th>z</th>\n",
       "      <th>q</th>\n",
       "      <th>Unnamed: 4</th>\n",
       "      <th>act_x</th>\n",
       "      <th>act_y</th>\n",
       "      <th>dist</th>\n",
       "    </tr>\n",
       "  </thead>\n",
       "  <tbody>\n",
       "    <tr>\n",
       "      <th>0</th>\n",
       "      <td>5171</td>\n",
       "      <td>1781</td>\n",
       "      <td>144</td>\n",
       "      <td>69</td>\n",
       "      <td>NaN</td>\n",
       "      <td>5.143</td>\n",
       "      <td>1.947</td>\n",
       "      <td>0.168345</td>\n",
       "    </tr>\n",
       "    <tr>\n",
       "      <th>1</th>\n",
       "      <td>5167</td>\n",
       "      <td>1797</td>\n",
       "      <td>156</td>\n",
       "      <td>71</td>\n",
       "      <td>NaN</td>\n",
       "      <td>NaN</td>\n",
       "      <td>NaN</td>\n",
       "      <td>0.151908</td>\n",
       "    </tr>\n",
       "    <tr>\n",
       "      <th>2</th>\n",
       "      <td>5173</td>\n",
       "      <td>1787</td>\n",
       "      <td>141</td>\n",
       "      <td>68</td>\n",
       "      <td>NaN</td>\n",
       "      <td>NaN</td>\n",
       "      <td>NaN</td>\n",
       "      <td>0.162788</td>\n",
       "    </tr>\n",
       "    <tr>\n",
       "      <th>3</th>\n",
       "      <td>5169</td>\n",
       "      <td>1790</td>\n",
       "      <td>147</td>\n",
       "      <td>70</td>\n",
       "      <td>NaN</td>\n",
       "      <td>NaN</td>\n",
       "      <td>NaN</td>\n",
       "      <td>0.159138</td>\n",
       "    </tr>\n",
       "    <tr>\n",
       "      <th>4</th>\n",
       "      <td>5166</td>\n",
       "      <td>1787</td>\n",
       "      <td>174</td>\n",
       "      <td>72</td>\n",
       "      <td>NaN</td>\n",
       "      <td>NaN</td>\n",
       "      <td>NaN</td>\n",
       "      <td>0.161645</td>\n",
       "    </tr>\n",
       "    <tr>\n",
       "      <th>...</th>\n",
       "      <td>...</td>\n",
       "      <td>...</td>\n",
       "      <td>...</td>\n",
       "      <td>...</td>\n",
       "      <td>...</td>\n",
       "      <td>...</td>\n",
       "      <td>...</td>\n",
       "      <td>...</td>\n",
       "    </tr>\n",
       "    <tr>\n",
       "      <th>440</th>\n",
       "      <td>5185</td>\n",
       "      <td>1775</td>\n",
       "      <td>72</td>\n",
       "      <td>67</td>\n",
       "      <td>NaN</td>\n",
       "      <td>NaN</td>\n",
       "      <td>NaN</td>\n",
       "      <td>0.177054</td>\n",
       "    </tr>\n",
       "    <tr>\n",
       "      <th>441</th>\n",
       "      <td>5187</td>\n",
       "      <td>1757</td>\n",
       "      <td>53</td>\n",
       "      <td>65</td>\n",
       "      <td>NaN</td>\n",
       "      <td>NaN</td>\n",
       "      <td>NaN</td>\n",
       "      <td>0.195028</td>\n",
       "    </tr>\n",
       "    <tr>\n",
       "      <th>442</th>\n",
       "      <td>5182</td>\n",
       "      <td>1760</td>\n",
       "      <td>68</td>\n",
       "      <td>69</td>\n",
       "      <td>NaN</td>\n",
       "      <td>NaN</td>\n",
       "      <td>NaN</td>\n",
       "      <td>0.191024</td>\n",
       "    </tr>\n",
       "    <tr>\n",
       "      <th>443</th>\n",
       "      <td>5174</td>\n",
       "      <td>1769</td>\n",
       "      <td>71</td>\n",
       "      <td>68</td>\n",
       "      <td>NaN</td>\n",
       "      <td>NaN</td>\n",
       "      <td>NaN</td>\n",
       "      <td>0.180679</td>\n",
       "    </tr>\n",
       "    <tr>\n",
       "      <th>444</th>\n",
       "      <td>5173</td>\n",
       "      <td>1766</td>\n",
       "      <td>71</td>\n",
       "      <td>68</td>\n",
       "      <td>NaN</td>\n",
       "      <td>NaN</td>\n",
       "      <td>NaN</td>\n",
       "      <td>0.183469</td>\n",
       "    </tr>\n",
       "  </tbody>\n",
       "</table>\n",
       "<p>445 rows × 8 columns</p>\n",
       "</div>"
      ],
      "text/plain": [
       "        x     y    z   q  Unnamed: 4  act_x  act_y      dist\n",
       "0    5171  1781  144  69         NaN  5.143  1.947  0.168345\n",
       "1    5167  1797  156  71         NaN    NaN    NaN  0.151908\n",
       "2    5173  1787  141  68         NaN    NaN    NaN  0.162788\n",
       "3    5169  1790  147  70         NaN    NaN    NaN  0.159138\n",
       "4    5166  1787  174  72         NaN    NaN    NaN  0.161645\n",
       "..    ...   ...  ...  ..         ...    ...    ...       ...\n",
       "440  5185  1775   72  67         NaN    NaN    NaN  0.177054\n",
       "441  5187  1757   53  65         NaN    NaN    NaN  0.195028\n",
       "442  5182  1760   68  69         NaN    NaN    NaN  0.191024\n",
       "443  5174  1769   71  68         NaN    NaN    NaN  0.180679\n",
       "444  5173  1766   71  68         NaN    NaN    NaN  0.183469\n",
       "\n",
       "[445 rows x 8 columns]"
      ]
     },
     "execution_count": 55,
     "metadata": {},
     "output_type": "execute_result"
    }
   ],
   "source": [
    "df1"
   ]
  },
  {
   "cell_type": "code",
   "execution_count": 34,
   "id": "bf21d5f8",
   "metadata": {},
   "outputs": [
    {
     "data": {
      "text/plain": [
       "0      0.168345\n",
       "1      0.151908\n",
       "2      0.162788\n",
       "3      0.159138\n",
       "4      0.161645\n",
       "         ...   \n",
       "440    0.177054\n",
       "441    0.195028\n",
       "442    0.191024\n",
       "443    0.180679\n",
       "444    0.183469\n",
       "Name: dist, Length: 445, dtype: float64"
      ]
     },
     "execution_count": 34,
     "metadata": {},
     "output_type": "execute_result"
    }
   ],
   "source": [
    "dist1"
   ]
  },
  {
   "cell_type": "code",
   "execution_count": 35,
   "id": "2d530ce7",
   "metadata": {},
   "outputs": [
    {
     "data": {
      "text/plain": [
       "445"
      ]
     },
     "execution_count": 35,
     "metadata": {},
     "output_type": "execute_result"
    }
   ],
   "source": [
    "l1"
   ]
  },
  {
   "cell_type": "code",
   "execution_count": 36,
   "id": "830f6141",
   "metadata": {},
   "outputs": [],
   "source": [
    "# ground truth y\n",
    "g_y1 = pd.Series([1.947] * l1)\n",
    "g_x1 = pd.Series([5.143] * l1)\n",
    "rmse_y1 = mean_squared_error(y1, g_y1)\n",
    "rmse_x1 = mean_squared_error(x1, g_x1)\n",
    "rmse_net1 = math.sqrt(rmse_x1 ** 2 + rmse_y1 ** 2)"
   ]
  },
  {
   "cell_type": "code",
   "execution_count": 37,
   "id": "da2b8444",
   "metadata": {},
   "outputs": [
    {
     "data": {
      "text/plain": [
       "0.0284198337078652"
      ]
     },
     "execution_count": 37,
     "metadata": {},
     "output_type": "execute_result"
    }
   ],
   "source": [
    "rmse_y1"
   ]
  },
  {
   "cell_type": "code",
   "execution_count": 38,
   "id": "ac54e678",
   "metadata": {},
   "outputs": [
    {
     "data": {
      "text/plain": [
       "0.001024053932584282"
      ]
     },
     "execution_count": 38,
     "metadata": {},
     "output_type": "execute_result"
    }
   ],
   "source": [
    "rmse_x1"
   ]
  },
  {
   "cell_type": "code",
   "execution_count": 39,
   "id": "52f28817",
   "metadata": {},
   "outputs": [
    {
     "data": {
      "text/plain": [
       "0.028438277627865445"
      ]
     },
     "execution_count": 39,
     "metadata": {},
     "output_type": "execute_result"
    }
   ],
   "source": [
    "rmse_net1"
   ]
  },
  {
   "cell_type": "code",
   "execution_count": 56,
   "id": "dbb6622a",
   "metadata": {},
   "outputs": [],
   "source": [
    "df2 = pd.read_csv('pose3.csv')\n",
    "# transfer unit to meter\n",
    "y2 = df2.y.div(1000)\n",
    "x2 = df2.x.div(1000)\n",
    "dist2 = df2.dist\n",
    "l2 = len(y2)"
   ]
  },
  {
   "cell_type": "code",
   "execution_count": 57,
   "id": "e5152669",
   "metadata": {},
   "outputs": [
    {
     "data": {
      "text/html": [
       "<div>\n",
       "<style scoped>\n",
       "    .dataframe tbody tr th:only-of-type {\n",
       "        vertical-align: middle;\n",
       "    }\n",
       "\n",
       "    .dataframe tbody tr th {\n",
       "        vertical-align: top;\n",
       "    }\n",
       "\n",
       "    .dataframe thead th {\n",
       "        text-align: right;\n",
       "    }\n",
       "</style>\n",
       "<table border=\"1\" class=\"dataframe\">\n",
       "  <thead>\n",
       "    <tr style=\"text-align: right;\">\n",
       "      <th></th>\n",
       "      <th>x</th>\n",
       "      <th>y</th>\n",
       "      <th>z</th>\n",
       "      <th>q</th>\n",
       "      <th>Unnamed: 4</th>\n",
       "      <th>act_x</th>\n",
       "      <th>act_y</th>\n",
       "      <th>dist</th>\n",
       "    </tr>\n",
       "  </thead>\n",
       "  <tbody>\n",
       "    <tr>\n",
       "      <th>0</th>\n",
       "      <td>6674</td>\n",
       "      <td>4880</td>\n",
       "      <td>202</td>\n",
       "      <td>55</td>\n",
       "      <td>NaN</td>\n",
       "      <td>6.641</td>\n",
       "      <td>4.788</td>\n",
       "      <td>0.097739</td>\n",
       "    </tr>\n",
       "    <tr>\n",
       "      <th>1</th>\n",
       "      <td>6676</td>\n",
       "      <td>4873</td>\n",
       "      <td>204</td>\n",
       "      <td>54</td>\n",
       "      <td>NaN</td>\n",
       "      <td>NaN</td>\n",
       "      <td>NaN</td>\n",
       "      <td>0.091924</td>\n",
       "    </tr>\n",
       "    <tr>\n",
       "      <th>2</th>\n",
       "      <td>6677</td>\n",
       "      <td>4886</td>\n",
       "      <td>195</td>\n",
       "      <td>54</td>\n",
       "      <td>NaN</td>\n",
       "      <td>NaN</td>\n",
       "      <td>NaN</td>\n",
       "      <td>0.104403</td>\n",
       "    </tr>\n",
       "    <tr>\n",
       "      <th>3</th>\n",
       "      <td>6641</td>\n",
       "      <td>4886</td>\n",
       "      <td>237</td>\n",
       "      <td>65</td>\n",
       "      <td>NaN</td>\n",
       "      <td>NaN</td>\n",
       "      <td>NaN</td>\n",
       "      <td>0.098000</td>\n",
       "    </tr>\n",
       "    <tr>\n",
       "      <th>4</th>\n",
       "      <td>6645</td>\n",
       "      <td>4886</td>\n",
       "      <td>239</td>\n",
       "      <td>56</td>\n",
       "      <td>NaN</td>\n",
       "      <td>NaN</td>\n",
       "      <td>NaN</td>\n",
       "      <td>0.098082</td>\n",
       "    </tr>\n",
       "    <tr>\n",
       "      <th>...</th>\n",
       "      <td>...</td>\n",
       "      <td>...</td>\n",
       "      <td>...</td>\n",
       "      <td>...</td>\n",
       "      <td>...</td>\n",
       "      <td>...</td>\n",
       "      <td>...</td>\n",
       "      <td>...</td>\n",
       "    </tr>\n",
       "    <tr>\n",
       "      <th>200</th>\n",
       "      <td>6648</td>\n",
       "      <td>4877</td>\n",
       "      <td>226</td>\n",
       "      <td>55</td>\n",
       "      <td>NaN</td>\n",
       "      <td>NaN</td>\n",
       "      <td>NaN</td>\n",
       "      <td>0.089275</td>\n",
       "    </tr>\n",
       "    <tr>\n",
       "      <th>201</th>\n",
       "      <td>6658</td>\n",
       "      <td>4894</td>\n",
       "      <td>213</td>\n",
       "      <td>54</td>\n",
       "      <td>NaN</td>\n",
       "      <td>NaN</td>\n",
       "      <td>NaN</td>\n",
       "      <td>0.107355</td>\n",
       "    </tr>\n",
       "    <tr>\n",
       "      <th>202</th>\n",
       "      <td>6657</td>\n",
       "      <td>4894</td>\n",
       "      <td>220</td>\n",
       "      <td>56</td>\n",
       "      <td>NaN</td>\n",
       "      <td>NaN</td>\n",
       "      <td>NaN</td>\n",
       "      <td>0.107201</td>\n",
       "    </tr>\n",
       "    <tr>\n",
       "      <th>203</th>\n",
       "      <td>6658</td>\n",
       "      <td>4884</td>\n",
       "      <td>222</td>\n",
       "      <td>55</td>\n",
       "      <td>NaN</td>\n",
       "      <td>NaN</td>\n",
       "      <td>NaN</td>\n",
       "      <td>0.097494</td>\n",
       "    </tr>\n",
       "    <tr>\n",
       "      <th>204</th>\n",
       "      <td>6653</td>\n",
       "      <td>4886</td>\n",
       "      <td>222</td>\n",
       "      <td>56</td>\n",
       "      <td>NaN</td>\n",
       "      <td>NaN</td>\n",
       "      <td>NaN</td>\n",
       "      <td>0.098732</td>\n",
       "    </tr>\n",
       "  </tbody>\n",
       "</table>\n",
       "<p>205 rows × 8 columns</p>\n",
       "</div>"
      ],
      "text/plain": [
       "        x     y    z   q  Unnamed: 4  act_x  act_y      dist\n",
       "0    6674  4880  202  55         NaN  6.641  4.788  0.097739\n",
       "1    6676  4873  204  54         NaN    NaN    NaN  0.091924\n",
       "2    6677  4886  195  54         NaN    NaN    NaN  0.104403\n",
       "3    6641  4886  237  65         NaN    NaN    NaN  0.098000\n",
       "4    6645  4886  239  56         NaN    NaN    NaN  0.098082\n",
       "..    ...   ...  ...  ..         ...    ...    ...       ...\n",
       "200  6648  4877  226  55         NaN    NaN    NaN  0.089275\n",
       "201  6658  4894  213  54         NaN    NaN    NaN  0.107355\n",
       "202  6657  4894  220  56         NaN    NaN    NaN  0.107201\n",
       "203  6658  4884  222  55         NaN    NaN    NaN  0.097494\n",
       "204  6653  4886  222  56         NaN    NaN    NaN  0.098732\n",
       "\n",
       "[205 rows x 8 columns]"
      ]
     },
     "execution_count": 57,
     "metadata": {},
     "output_type": "execute_result"
    }
   ],
   "source": [
    "df2"
   ]
  },
  {
   "cell_type": "code",
   "execution_count": 41,
   "id": "500c0605",
   "metadata": {},
   "outputs": [
    {
     "data": {
      "text/plain": [
       "0      0.097739\n",
       "1      0.091924\n",
       "2      0.104403\n",
       "3      0.098000\n",
       "4      0.098082\n",
       "         ...   \n",
       "200    0.089275\n",
       "201    0.107355\n",
       "202    0.107201\n",
       "203    0.097494\n",
       "204    0.098732\n",
       "Name: dist, Length: 205, dtype: float64"
      ]
     },
     "execution_count": 41,
     "metadata": {},
     "output_type": "execute_result"
    }
   ],
   "source": [
    "dist2"
   ]
  },
  {
   "cell_type": "code",
   "execution_count": 42,
   "id": "307ad586",
   "metadata": {},
   "outputs": [
    {
     "data": {
      "text/plain": [
       "205"
      ]
     },
     "execution_count": 42,
     "metadata": {},
     "output_type": "execute_result"
    }
   ],
   "source": [
    "l2"
   ]
  },
  {
   "cell_type": "code",
   "execution_count": 43,
   "id": "eca8124d",
   "metadata": {},
   "outputs": [],
   "source": [
    "g_y2 = pd.Series([4.788] * l2)\n",
    "g_x2 = pd.Series([6.641] * l2)\n",
    "rmse_y2 = mean_squared_error(y2, g_y2)\n",
    "rmse_x2 = mean_squared_error(x2, g_x2)\n",
    "rmse_net2 = math.sqrt(rmse_x2 ** 2 + rmse_y2 ** 2)"
   ]
  },
  {
   "cell_type": "code",
   "execution_count": 44,
   "id": "12d69694",
   "metadata": {},
   "outputs": [
    {
     "data": {
      "text/plain": [
       "0.00870854634146337"
      ]
     },
     "execution_count": 44,
     "metadata": {},
     "output_type": "execute_result"
    }
   ],
   "source": [
    "rmse_y2"
   ]
  },
  {
   "cell_type": "code",
   "execution_count": 45,
   "id": "85ededfc",
   "metadata": {},
   "outputs": [
    {
     "data": {
      "text/plain": [
       "0.0003359512195121939"
      ]
     },
     "execution_count": 45,
     "metadata": {},
     "output_type": "execute_result"
    }
   ],
   "source": [
    "rmse_x2"
   ]
  },
  {
   "cell_type": "code",
   "execution_count": 46,
   "id": "5ed40fbf",
   "metadata": {},
   "outputs": [
    {
     "data": {
      "text/plain": [
       "0.008715023958848695"
      ]
     },
     "execution_count": 46,
     "metadata": {},
     "output_type": "execute_result"
    }
   ],
   "source": [
    "rmse_net2"
   ]
  },
  {
   "cell_type": "code",
   "execution_count": 47,
   "id": "e635cf71",
   "metadata": {},
   "outputs": [],
   "source": [
    "rmse = (rmse_net*l + rmse_net1*l1+rmse_net2*l2)/(l + l1 + l2)"
   ]
  },
  {
   "cell_type": "code",
   "execution_count": 48,
   "id": "4ea15d37",
   "metadata": {},
   "outputs": [
    {
     "data": {
      "text/plain": [
       "0.01422606083083504"
      ]
     },
     "execution_count": 48,
     "metadata": {},
     "output_type": "execute_result"
    }
   ],
   "source": [
    "rmse"
   ]
  },
  {
   "cell_type": "code",
   "execution_count": 58,
   "id": "4da14b1b",
   "metadata": {},
   "outputs": [],
   "source": [
    "frames = [df, df1, df2]\n",
    "result = pd.concat(frames)"
   ]
  },
  {
   "cell_type": "raw",
   "id": "8dee8d10",
   "metadata": {},
   "source": [
    "result"
   ]
  },
  {
   "cell_type": "code",
   "execution_count": 61,
   "id": "d514b3ce",
   "metadata": {},
   "outputs": [
    {
     "data": {
      "text/html": [
       "<div>\n",
       "<style scoped>\n",
       "    .dataframe tbody tr th:only-of-type {\n",
       "        vertical-align: middle;\n",
       "    }\n",
       "\n",
       "    .dataframe tbody tr th {\n",
       "        vertical-align: top;\n",
       "    }\n",
       "\n",
       "    .dataframe thead th {\n",
       "        text-align: right;\n",
       "    }\n",
       "</style>\n",
       "<table border=\"1\" class=\"dataframe\">\n",
       "  <thead>\n",
       "    <tr style=\"text-align: right;\">\n",
       "      <th></th>\n",
       "      <th>x</th>\n",
       "      <th>y</th>\n",
       "      <th>z</th>\n",
       "      <th>q</th>\n",
       "      <th>Unnamed: 4</th>\n",
       "      <th>act_x</th>\n",
       "      <th>act_y</th>\n",
       "      <th>dist</th>\n",
       "    </tr>\n",
       "  </thead>\n",
       "  <tbody>\n",
       "    <tr>\n",
       "      <th>0</th>\n",
       "      <td>3963</td>\n",
       "      <td>2483</td>\n",
       "      <td>333</td>\n",
       "      <td>82</td>\n",
       "      <td>NaN</td>\n",
       "      <td>3.916</td>\n",
       "      <td>2.465</td>\n",
       "      <td>0.050329</td>\n",
       "    </tr>\n",
       "    <tr>\n",
       "      <th>1</th>\n",
       "      <td>3958</td>\n",
       "      <td>2480</td>\n",
       "      <td>342</td>\n",
       "      <td>83</td>\n",
       "      <td>NaN</td>\n",
       "      <td>NaN</td>\n",
       "      <td>NaN</td>\n",
       "      <td>0.044598</td>\n",
       "    </tr>\n",
       "    <tr>\n",
       "      <th>2</th>\n",
       "      <td>3941</td>\n",
       "      <td>2464</td>\n",
       "      <td>292</td>\n",
       "      <td>78</td>\n",
       "      <td>NaN</td>\n",
       "      <td>NaN</td>\n",
       "      <td>NaN</td>\n",
       "      <td>0.025020</td>\n",
       "    </tr>\n",
       "    <tr>\n",
       "      <th>3</th>\n",
       "      <td>3929</td>\n",
       "      <td>2466</td>\n",
       "      <td>282</td>\n",
       "      <td>81</td>\n",
       "      <td>NaN</td>\n",
       "      <td>NaN</td>\n",
       "      <td>NaN</td>\n",
       "      <td>0.013038</td>\n",
       "    </tr>\n",
       "    <tr>\n",
       "      <th>4</th>\n",
       "      <td>3940</td>\n",
       "      <td>2489</td>\n",
       "      <td>312</td>\n",
       "      <td>84</td>\n",
       "      <td>NaN</td>\n",
       "      <td>NaN</td>\n",
       "      <td>NaN</td>\n",
       "      <td>0.033941</td>\n",
       "    </tr>\n",
       "    <tr>\n",
       "      <th>...</th>\n",
       "      <td>...</td>\n",
       "      <td>...</td>\n",
       "      <td>...</td>\n",
       "      <td>...</td>\n",
       "      <td>...</td>\n",
       "      <td>...</td>\n",
       "      <td>...</td>\n",
       "      <td>...</td>\n",
       "    </tr>\n",
       "    <tr>\n",
       "      <th>200</th>\n",
       "      <td>6648</td>\n",
       "      <td>4877</td>\n",
       "      <td>226</td>\n",
       "      <td>55</td>\n",
       "      <td>NaN</td>\n",
       "      <td>NaN</td>\n",
       "      <td>NaN</td>\n",
       "      <td>0.089275</td>\n",
       "    </tr>\n",
       "    <tr>\n",
       "      <th>201</th>\n",
       "      <td>6658</td>\n",
       "      <td>4894</td>\n",
       "      <td>213</td>\n",
       "      <td>54</td>\n",
       "      <td>NaN</td>\n",
       "      <td>NaN</td>\n",
       "      <td>NaN</td>\n",
       "      <td>0.107355</td>\n",
       "    </tr>\n",
       "    <tr>\n",
       "      <th>202</th>\n",
       "      <td>6657</td>\n",
       "      <td>4894</td>\n",
       "      <td>220</td>\n",
       "      <td>56</td>\n",
       "      <td>NaN</td>\n",
       "      <td>NaN</td>\n",
       "      <td>NaN</td>\n",
       "      <td>0.107201</td>\n",
       "    </tr>\n",
       "    <tr>\n",
       "      <th>203</th>\n",
       "      <td>6658</td>\n",
       "      <td>4884</td>\n",
       "      <td>222</td>\n",
       "      <td>55</td>\n",
       "      <td>NaN</td>\n",
       "      <td>NaN</td>\n",
       "      <td>NaN</td>\n",
       "      <td>0.097494</td>\n",
       "    </tr>\n",
       "    <tr>\n",
       "      <th>204</th>\n",
       "      <td>6653</td>\n",
       "      <td>4886</td>\n",
       "      <td>222</td>\n",
       "      <td>56</td>\n",
       "      <td>NaN</td>\n",
       "      <td>NaN</td>\n",
       "      <td>NaN</td>\n",
       "      <td>0.098732</td>\n",
       "    </tr>\n",
       "  </tbody>\n",
       "</table>\n",
       "<p>1038 rows × 8 columns</p>\n",
       "</div>"
      ],
      "text/plain": [
       "        x     y    z   q  Unnamed: 4  act_x  act_y      dist\n",
       "0    3963  2483  333  82         NaN  3.916  2.465  0.050329\n",
       "1    3958  2480  342  83         NaN    NaN    NaN  0.044598\n",
       "2    3941  2464  292  78         NaN    NaN    NaN  0.025020\n",
       "3    3929  2466  282  81         NaN    NaN    NaN  0.013038\n",
       "4    3940  2489  312  84         NaN    NaN    NaN  0.033941\n",
       "..    ...   ...  ...  ..         ...    ...    ...       ...\n",
       "200  6648  4877  226  55         NaN    NaN    NaN  0.089275\n",
       "201  6658  4894  213  54         NaN    NaN    NaN  0.107355\n",
       "202  6657  4894  220  56         NaN    NaN    NaN  0.107201\n",
       "203  6658  4884  222  55         NaN    NaN    NaN  0.097494\n",
       "204  6653  4886  222  56         NaN    NaN    NaN  0.098732\n",
       "\n",
       "[1038 rows x 8 columns]"
      ]
     },
     "execution_count": 61,
     "metadata": {},
     "output_type": "execute_result"
    }
   ],
   "source": [
    "result"
   ]
  },
  {
   "cell_type": "code",
   "execution_count": 64,
   "id": "9d54d3b0",
   "metadata": {},
   "outputs": [],
   "source": [
    "dist = result.dist"
   ]
  },
  {
   "cell_type": "code",
   "execution_count": 65,
   "id": "72ecdfd3",
   "metadata": {},
   "outputs": [
    {
     "data": {
      "text/plain": [
       "0      0.050329\n",
       "1      0.044598\n",
       "2      0.025020\n",
       "3      0.013038\n",
       "4      0.033941\n",
       "         ...   \n",
       "200    0.089275\n",
       "201    0.107355\n",
       "202    0.107201\n",
       "203    0.097494\n",
       "204    0.098732\n",
       "Name: dist, Length: 1038, dtype: float64"
      ]
     },
     "execution_count": 65,
     "metadata": {},
     "output_type": "execute_result"
    }
   ],
   "source": [
    "dist"
   ]
  },
  {
   "cell_type": "code",
   "execution_count": 66,
   "id": "7893a603",
   "metadata": {},
   "outputs": [
    {
     "data": {
      "text/plain": [
       "0.005099019513593"
      ]
     },
     "execution_count": 66,
     "metadata": {},
     "output_type": "execute_result"
    }
   ],
   "source": [
    "min(dist)"
   ]
  },
  {
   "cell_type": "code",
   "execution_count": 67,
   "id": "6565f138",
   "metadata": {},
   "outputs": [
    {
     "data": {
      "text/plain": [
       "0.204462710536665"
      ]
     },
     "execution_count": 67,
     "metadata": {},
     "output_type": "execute_result"
    }
   ],
   "source": [
    "max(dist)"
   ]
  },
  {
   "cell_type": "code",
   "execution_count": 69,
   "id": "ba326603",
   "metadata": {},
   "outputs": [],
   "source": [
    "bin_values = np.arange(start=0.005, stop=0.25, step=0.005)"
   ]
  },
  {
   "cell_type": "code",
   "execution_count": 72,
   "id": "89e2d719",
   "metadata": {},
   "outputs": [
    {
     "data": {
      "text/plain": [
       "array([0.005, 0.01 , 0.015, 0.02 , 0.025, 0.03 , 0.035, 0.04 , 0.045,\n",
       "       0.05 , 0.055, 0.06 , 0.065, 0.07 , 0.075, 0.08 , 0.085, 0.09 ,\n",
       "       0.095, 0.1  , 0.105, 0.11 , 0.115, 0.12 , 0.125, 0.13 , 0.135,\n",
       "       0.14 , 0.145, 0.15 , 0.155, 0.16 , 0.165, 0.17 , 0.175, 0.18 ,\n",
       "       0.185, 0.19 , 0.195, 0.2  , 0.205, 0.21 , 0.215, 0.22 , 0.225,\n",
       "       0.23 , 0.235, 0.24 , 0.245])"
      ]
     },
     "execution_count": 72,
     "metadata": {},
     "output_type": "execute_result"
    }
   ],
   "source": [
    "bin_values"
   ]
  },
  {
   "cell_type": "code",
   "execution_count": 73,
   "id": "8b59ba55",
   "metadata": {},
   "outputs": [
    {
     "name": "stderr",
     "output_type": "stream",
     "text": [
      "/home/mingze/anaconda3/lib/python3.7/site-packages/seaborn/distributions.py:2557: FutureWarning: `distplot` is a deprecated function and will be removed in a future version. Please adapt your code to use either `displot` (a figure-level function with similar flexibility) or `histplot` (an axes-level function for histograms).\n",
      "  warnings.warn(msg, FutureWarning)\n"
     ]
    },
    {
     "data": {
      "image/png": "[encoded data removed]",
      "text/plain": [
       "<Figure size 842.4x595.44 with 1 Axes>"
      ]
     },
     "metadata": {},
     "output_type": "display_data"
    }
   ],
   "source": [
    "sns.set(rc={'figure.figsize':(11.7,8.27)})\n",
    "# Density Plot and Histogram of act_dist\n",
    "# sns.distplot(subset['arr_delay'], hist = False, kde = True,\n",
    "#                  kde_kws = {'shade': True, 'linewidth': 3}, \n",
    "#                   label = airline)\n",
    "# 'shade': True can be used to compare multiple density plot\n",
    "# rug=True , for showing all detailed data\n",
    "sns_plot = sns.distplot(dist0, hist=True, kde=True, \n",
    "             bins=bin_values, color = 'darkblue', \n",
    "             hist_kws={'edgecolor':'black'},\n",
    "             kde_kws={'linewidth': 4})"
   ]
  },
  {
   "cell_type": "code",
   "execution_count": 74,
   "id": "8f9b61ef",
   "metadata": {},
   "outputs": [
    {
     "name": "stderr",
     "output_type": "stream",
     "text": [
      "/home/mingze/anaconda3/lib/python3.7/site-packages/seaborn/distributions.py:2557: FutureWarning: `distplot` is a deprecated function and will be removed in a future version. Please adapt your code to use either `displot` (a figure-level function with similar flexibility) or `histplot` (an axes-level function for histograms).\n",
      "  warnings.warn(msg, FutureWarning)\n"
     ]
    },
    {
     "data": {
      "image/png": "[encoded data removed]",
      "text/plain": [
       "<Figure size 842.4x595.44 with 1 Axes>"
      ]
     },
     "metadata": {},
     "output_type": "display_data"
    }
   ],
   "source": [
    "sns.set(rc={'figure.figsize':(11.7,8.27)})\n",
    "# Density Plot and Histogram of act_dist\n",
    "# sns.distplot(subset['arr_delay'], hist = False, kde = True,\n",
    "#                  kde_kws = {'shade': True, 'linewidth': 3}, \n",
    "#                   label = airline)\n",
    "# 'shade': True can be used to compare multiple density plot\n",
    "# rug=True , for showing all detailed data\n",
    "sns_plot = sns.distplot(dist1, hist=True, kde=True, \n",
    "             bins=bin_values, color = 'darkblue', \n",
    "             hist_kws={'edgecolor':'black'},\n",
    "             kde_kws={'linewidth': 4})"
   ]
  },
  {
   "cell_type": "code",
   "execution_count": 76,
   "id": "97419303",
   "metadata": {},
   "outputs": [
    {
     "name": "stderr",
     "output_type": "stream",
     "text": [
      "/home/mingze/anaconda3/lib/python3.7/site-packages/seaborn/distributions.py:2557: FutureWarning: `distplot` is a deprecated function and will be removed in a future version. Please adapt your code to use either `displot` (a figure-level function with similar flexibility) or `histplot` (an axes-level function for histograms).\n",
      "  warnings.warn(msg, FutureWarning)\n"
     ]
    },
    {
     "data": {
      "image/png": "[encoded data removed]",
      "text/plain": [
       "<Figure size 842.4x595.44 with 1 Axes>"
      ]
     },
     "metadata": {},
     "output_type": "display_data"
    }
   ],
   "source": [
    "sns.set(rc={'figure.figsize':(11.7,8.27)})\n",
    "# Density Plot and Histogram of act_dist\n",
    "# sns.distplot(subset['arr_delay'], hist = False, kde = True,\n",
    "#                  kde_kws = {'shade': True, 'linewidth': 3}, \n",
    "#                   label = airline)\n",
    "# 'shade': True can be used to compare multiple density plot\n",
    "# rug=True , for showing all detailed data\n",
    "sns_plot = sns.distplot(dist2, hist=True, kde=True, \n",
    "             bins=bin_values, color = 'darkblue', \n",
    "             hist_kws={'edgecolor':'black'},\n",
    "             kde_kws={'linewidth': 4})"
   ]
  },
  {
   "cell_type": "code",
   "execution_count": 71,
   "id": "5bd30aca",
   "metadata": {},
   "outputs": [
    {
     "name": "stderr",
     "output_type": "stream",
     "text": [
      "/home/mingze/anaconda3/lib/python3.7/site-packages/seaborn/distributions.py:2557: FutureWarning: `distplot` is a deprecated function and will be removed in a future version. Please adapt your code to use either `displot` (a figure-level function with similar flexibility) or `histplot` (an axes-level function for histograms).\n",
      "  warnings.warn(msg, FutureWarning)\n"
     ]
    },
    {
     "data": {
      "image/png": "[encoded data removed]",
      "text/plain": [
       "<Figure size 842.4x595.44 with 1 Axes>"
      ]
     },
     "metadata": {},
     "output_type": "display_data"
    }
   ],
   "source": [
    "sns.set(rc={'figure.figsize':(11.7,8.27)})\n",
    "# Density Plot and Histogram of act_dist\n",
    "# sns.distplot(subset['arr_delay'], hist = False, kde = True,\n",
    "#                  kde_kws = {'shade': True, 'linewidth': 3}, \n",
    "#                   label = airline)\n",
    "# 'shade': True can be used to compare multiple density plot\n",
    "# rug=True , for showing all detailed data\n",
    "sns_plot = sns.distplot(dist, hist=True, kde=True, \n",
    "             bins=bin_values, color = 'darkblue', \n",
    "             hist_kws={'edgecolor':'black'},\n",
    "             kde_kws={'linewidth': 4})"
   ]
  },
  {
   "cell_type": "markdown",
   "id": "0e691caa",
   "metadata": {},
   "source": [
    "Multimode denotes measurement distribution over different randomly picked up points."
   ]
  }
 ],
 "metadata": {
  "kernelspec": {
   "display_name": "Python 3",
   "language": "python",
   "name": "python3"
  },
  "language_info": {
   "codemirror_mode": {
    "name": "ipython",
    "version": 3
   },
   "file_extension": ".py",
   "mimetype": "text/x-python",
   "name": "python",
   "nbconvert_exporter": "python",
   "pygments_lexer": "ipython3",
   "version": "3.7.4"
  }
 },
 "nbformat": 4,
 "nbformat_minor": 5
}
