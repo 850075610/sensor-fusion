{
 "cells": [
  {
   "cell_type": "code",
   "execution_count": 67,
   "id": "a3ae5ab7",
   "metadata": {},
   "outputs": [],
   "source": [
    "import math\n",
    "import pandas as pd\n",
    "from sklearn.metrics import mean_squared_error\n",
    "# read from csv and save corresponding column data to variables\n",
    "df = pd.read_csv('pose1.csv')\n",
    "# transfer unit to meter\n",
    "y = df.y.div(1000)\n",
    "x = df.x.div(1000)\n",
    "l = len(y)"
   ]
  },
  {
   "cell_type": "code",
   "execution_count": 68,
   "id": "da625dd5",
   "metadata": {},
   "outputs": [
    {
     "data": {
      "text/plain": [
       "388"
      ]
     },
     "execution_count": 68,
     "metadata": {},
     "output_type": "execute_result"
    }
   ],
   "source": [
    "l"
   ]
  },
  {
   "cell_type": "code",
   "execution_count": 52,
   "id": "f2e2eb52",
   "metadata": {},
   "outputs": [
    {
     "data": {
      "text/plain": [
       "pandas.core.series.Series"
      ]
     },
     "execution_count": 52,
     "metadata": {},
     "output_type": "execute_result"
    }
   ],
   "source": [
    "type(y)"
   ]
  },
  {
   "cell_type": "code",
   "execution_count": 53,
   "id": "482fce10",
   "metadata": {},
   "outputs": [],
   "source": [
    "# ground truth y\n",
    "g_y = pd.Series([2.465] * l)\n",
    "g_x = pd.Series([3.916] * l)"
   ]
  },
  {
   "cell_type": "code",
   "execution_count": 54,
   "id": "b15446e5",
   "metadata": {},
   "outputs": [
    {
     "data": {
      "text/plain": [
       "0      2.465\n",
       "1      2.465\n",
       "2      2.465\n",
       "3      2.465\n",
       "4      2.465\n",
       "       ...  \n",
       "383    2.465\n",
       "384    2.465\n",
       "385    2.465\n",
       "386    2.465\n",
       "387    2.465\n",
       "Length: 388, dtype: float64"
      ]
     },
     "execution_count": 54,
     "metadata": {},
     "output_type": "execute_result"
    }
   ],
   "source": [
    "g_y"
   ]
  },
  {
   "cell_type": "code",
   "execution_count": 55,
   "id": "852a0c91",
   "metadata": {},
   "outputs": [
    {
     "data": {
      "text/plain": [
       "0      2.483\n",
       "1      2.480\n",
       "2      2.464\n",
       "3      2.466\n",
       "4      2.489\n",
       "       ...  \n",
       "383    2.449\n",
       "384    2.450\n",
       "385    2.443\n",
       "386    2.441\n",
       "387    2.447\n",
       "Name: y, Length: 388, dtype: float64"
      ]
     },
     "execution_count": 55,
     "metadata": {},
     "output_type": "execute_result"
    }
   ],
   "source": [
    "y"
   ]
  },
  {
   "cell_type": "code",
   "execution_count": 56,
   "id": "65f2284f",
   "metadata": {},
   "outputs": [
    {
     "data": {
      "text/plain": [
       "0      3.963\n",
       "1      3.958\n",
       "2      3.941\n",
       "3      3.929\n",
       "4      3.940\n",
       "       ...  \n",
       "383    3.945\n",
       "384    3.959\n",
       "385    3.954\n",
       "386    3.936\n",
       "387    3.922\n",
       "Name: x, Length: 388, dtype: float64"
      ]
     },
     "execution_count": 56,
     "metadata": {},
     "output_type": "execute_result"
    }
   ],
   "source": [
    "x"
   ]
  },
  {
   "cell_type": "code",
   "execution_count": 57,
   "id": "8e5fa205",
   "metadata": {},
   "outputs": [
    {
     "data": {
      "text/plain": [
       "0      3.916\n",
       "1      3.916\n",
       "2      3.916\n",
       "3      3.916\n",
       "4      3.916\n",
       "       ...  \n",
       "383    3.916\n",
       "384    3.916\n",
       "385    3.916\n",
       "386    3.916\n",
       "387    3.916\n",
       "Length: 388, dtype: float64"
      ]
     },
     "execution_count": 57,
     "metadata": {},
     "output_type": "execute_result"
    }
   ],
   "source": [
    "g_x"
   ]
  },
  {
   "cell_type": "code",
   "execution_count": 58,
   "id": "e8427877",
   "metadata": {},
   "outputs": [],
   "source": [
    "rmse_y = mean_squared_error(y, g_y)"
   ]
  },
  {
   "cell_type": "code",
   "execution_count": 59,
   "id": "1fef5ccf",
   "metadata": {},
   "outputs": [],
   "source": [
    "rmse_x = mean_squared_error(x, g_x)"
   ]
  },
  {
   "cell_type": "code",
   "execution_count": 60,
   "id": "fc6d6f96",
   "metadata": {},
   "outputs": [],
   "source": [
    "rmse_net = math.sqrt(rmse_x**2 + rmse_y**2)"
   ]
  },
  {
   "cell_type": "code",
   "execution_count": 61,
   "id": "9557f87d",
   "metadata": {},
   "outputs": [
    {
     "data": {
      "text/plain": [
       "0.0008377259959862514"
      ]
     },
     "execution_count": 61,
     "metadata": {},
     "output_type": "execute_result"
    }
   ],
   "source": [
    "rmse_net"
   ]
  },
  {
   "cell_type": "code",
   "execution_count": 69,
   "id": "f60e5f65",
   "metadata": {},
   "outputs": [],
   "source": [
    "df1 = pd.read_csv('pose2.csv')\n",
    "# transfer unit to meter\n",
    "y1 = df1.y.div(1000)\n",
    "x1 = df1.x.div(1000)\n",
    "l1 = len(y1)"
   ]
  },
  {
   "cell_type": "code",
   "execution_count": 70,
   "id": "2d530ce7",
   "metadata": {},
   "outputs": [
    {
     "data": {
      "text/plain": [
       "445"
      ]
     },
     "execution_count": 70,
     "metadata": {},
     "output_type": "execute_result"
    }
   ],
   "source": [
    "l1"
   ]
  },
  {
   "cell_type": "code",
   "execution_count": 63,
   "id": "830f6141",
   "metadata": {},
   "outputs": [],
   "source": [
    "# ground truth y\n",
    "g_y1 = pd.Series([1.947] * l1)\n",
    "g_x1 = pd.Series([5.143] * l1)\n",
    "rmse_y1 = mean_squared_error(y1, g_y1)\n",
    "rmse_x1 = mean_squared_error(x1, g_x1)\n",
    "rmse_net1 = math.sqrt(rmse_x1 ** 2 + rmse_y1 ** 2)"
   ]
  },
  {
   "cell_type": "code",
   "execution_count": 64,
   "id": "da2b8444",
   "metadata": {},
   "outputs": [
    {
     "data": {
      "text/plain": [
       "0.0284198337078652"
      ]
     },
     "execution_count": 64,
     "metadata": {},
     "output_type": "execute_result"
    }
   ],
   "source": [
    "rmse_y1"
   ]
  },
  {
   "cell_type": "code",
   "execution_count": 65,
   "id": "ac54e678",
   "metadata": {},
   "outputs": [
    {
     "data": {
      "text/plain": [
       "0.001024053932584282"
      ]
     },
     "execution_count": 65,
     "metadata": {},
     "output_type": "execute_result"
    }
   ],
   "source": [
    "rmse_x1"
   ]
  },
  {
   "cell_type": "code",
   "execution_count": 66,
   "id": "52f28817",
   "metadata": {},
   "outputs": [
    {
     "data": {
      "text/plain": [
       "0.028438277627865445"
      ]
     },
     "execution_count": 66,
     "metadata": {},
     "output_type": "execute_result"
    }
   ],
   "source": [
    "rmse_net1"
   ]
  },
  {
   "cell_type": "code",
   "execution_count": 77,
   "id": "dbb6622a",
   "metadata": {},
   "outputs": [],
   "source": [
    "df2 = pd.read_csv('pose3.csv')\n",
    "# transfer unit to meter\n",
    "y2 = df2.y.div(1000)\n",
    "x2 = df2.x.div(1000)\n",
    "l2 = len(y2)"
   ]
  },
  {
   "cell_type": "code",
   "execution_count": 78,
   "id": "307ad586",
   "metadata": {},
   "outputs": [
    {
     "data": {
      "text/plain": [
       "205"
      ]
     },
     "execution_count": 78,
     "metadata": {},
     "output_type": "execute_result"
    }
   ],
   "source": [
    "l2"
   ]
  },
  {
   "cell_type": "code",
   "execution_count": 73,
   "id": "eca8124d",
   "metadata": {},
   "outputs": [],
   "source": [
    "g_y2 = pd.Series([4.788] * l2)\n",
    "g_x2 = pd.Series([6.641] * l2)\n",
    "rmse_y2 = mean_squared_error(y2, g_y2)\n",
    "rmse_x2 = mean_squared_error(x2, g_x2)\n",
    "rmse_net2 = math.sqrt(rmse_x2 ** 2 + rmse_y2 ** 2)"
   ]
  },
  {
   "cell_type": "code",
   "execution_count": 74,
   "id": "12d69694",
   "metadata": {},
   "outputs": [
    {
     "data": {
      "text/plain": [
       "0.00870854634146337"
      ]
     },
     "execution_count": 74,
     "metadata": {},
     "output_type": "execute_result"
    }
   ],
   "source": [
    "rmse_y2"
   ]
  },
  {
   "cell_type": "code",
   "execution_count": 75,
   "id": "85ededfc",
   "metadata": {},
   "outputs": [
    {
     "data": {
      "text/plain": [
       "0.0003359512195121939"
      ]
     },
     "execution_count": 75,
     "metadata": {},
     "output_type": "execute_result"
    }
   ],
   "source": [
    "rmse_x2"
   ]
  },
  {
   "cell_type": "code",
   "execution_count": 76,
   "id": "5ed40fbf",
   "metadata": {},
   "outputs": [
    {
     "data": {
      "text/plain": [
       "0.008715023958848695"
      ]
     },
     "execution_count": 76,
     "metadata": {},
     "output_type": "execute_result"
    }
   ],
   "source": [
    "rmse_net2"
   ]
  },
  {
   "cell_type": "code",
   "execution_count": 79,
   "id": "e635cf71",
   "metadata": {},
   "outputs": [],
   "source": [
    "rmse = (rmse_net*l + rmse_net1*l1+rmse_net2*l2)/(l + l1 + l2)"
   ]
  },
  {
   "cell_type": "code",
   "execution_count": 80,
   "id": "4ea15d37",
   "metadata": {},
   "outputs": [
    {
     "data": {
      "text/plain": [
       "0.01422606083083504"
      ]
     },
     "execution_count": 80,
     "metadata": {},
     "output_type": "execute_result"
    }
   ],
   "source": [
    "rmse"
   ]
  },
  {
   "cell_type": "code",
   "execution_count": null,
   "id": "4da14b1b",
   "metadata": {},
   "outputs": [],
   "source": []
  },
  {
   "cell_type": "markdown",
   "id": "0e691caa",
   "metadata": {},
   "source": []
  }
 ],
 "metadata": {
  "kernelspec": {
   "display_name": "Python 3",
   "language": "python",
   "name": "python3"
  },
  "language_info": {
   "codemirror_mode": {
    "name": "ipython",
    "version": 3
   },
   "file_extension": ".py",
   "mimetype": "text/x-python",
   "name": "python",
   "nbconvert_exporter": "python",
   "pygments_lexer": "ipython3",
   "version": "3.7.4"
  }
 },
 "nbformat": 4,
 "nbformat_minor": 5
}
