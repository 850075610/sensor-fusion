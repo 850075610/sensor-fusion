{
 "cells": [
  {
   "cell_type": "code",
   "execution_count": 1,
   "id": "3b9cc01a",
   "metadata": {},
   "outputs": [],
   "source": [
    "import math\n",
    "import pandas as pd\n",
    "from sklearn.metrics import mean_squared_error\n",
    "# read from csv and save corresponding column data to variables\n",
    "df = pd.read_csv('process_error.csv')\n",
    "# transfer unit to meter\n",
    "y = df.y\n",
    "x = df.x\n",
    "l = len(y)"
   ]
  },
  {
   "cell_type": "code",
   "execution_count": 2,
   "id": "56973d7e",
   "metadata": {},
   "outputs": [],
   "source": [
    "# ground truth y\n",
    "expected_y = pd.Series([2.435] * l)\n",
    "expected_x = pd.Series([4.045] * l)"
   ]
  },
  {
   "cell_type": "code",
   "execution_count": 4,
   "id": "0bf06930",
   "metadata": {},
   "outputs": [],
   "source": [
    "rmse_y1 = mean_squared_error(y, expected_y)\n",
    "rmse_x1 = mean_squared_error(x, expected_x)\n",
    "rmse_net = math.sqrt(rmse_x1 ** 2 + rmse_y1 ** 2)"
   ]
  },
  {
   "cell_type": "code",
   "execution_count": 5,
   "id": "45f6f4ab",
   "metadata": {},
   "outputs": [
    {
     "data": {
      "text/plain": [
       "0.0009678000000000042"
      ]
     },
     "execution_count": 5,
     "metadata": {},
     "output_type": "execute_result"
    }
   ],
   "source": [
    "rmse_y1"
   ]
  },
  {
   "cell_type": "code",
   "execution_count": 6,
   "id": "381c3747",
   "metadata": {},
   "outputs": [
    {
     "data": {
      "text/plain": [
       "0.0005020700000000012"
      ]
     },
     "execution_count": 6,
     "metadata": {},
     "output_type": "execute_result"
    }
   ],
   "source": [
    "rmse_x1"
   ]
  },
  {
   "cell_type": "code",
   "execution_count": 7,
   "id": "082c8676",
   "metadata": {},
   "outputs": [
    {
     "data": {
      "text/plain": [
       "0.001090280296483436"
      ]
     },
     "execution_count": 7,
     "metadata": {},
     "output_type": "execute_result"
    }
   ],
   "source": [
    "rmse_net"
   ]
  },
  {
   "cell_type": "code",
   "execution_count": null,
   "id": "ba1fee8e",
   "metadata": {},
   "outputs": [],
   "source": []
  }
 ],
 "metadata": {
  "kernelspec": {
   "display_name": "Python 3",
   "language": "python",
   "name": "python3"
  },
  "language_info": {
   "codemirror_mode": {
    "name": "ipython",
    "version": 3
   },
   "file_extension": ".py",
   "mimetype": "text/x-python",
   "name": "python",
   "nbconvert_exporter": "python",
   "pygments_lexer": "ipython3",
   "version": "3.7.4"
  }
 },
 "nbformat": 4,
 "nbformat_minor": 5
}
