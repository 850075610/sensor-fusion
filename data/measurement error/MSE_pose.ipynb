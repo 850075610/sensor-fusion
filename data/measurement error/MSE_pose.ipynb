{
 "cells": [
  {
   "cell_type": "code",
   "execution_count": 2,
   "id": "a3ae5ab7",
   "metadata": {},
   "outputs": [],
   "source": [
    "import math\n",
    "import pandas as pd\n",
    "import numpy as np\n",
    "import matplotlib.pyplot as plt\n",
    "import seaborn as sns\n",
    "from sklearn.metrics import mean_squared_error\n",
    "# read from csv and save corresponding column data to variables\n",
    "df = pd.read_csv('pose1.csv')[:100]\n",
    "# transfer unit to meter\n",
    "y = df.y.div(1000)\n",
    "x = df.x.div(1000)\n",
    "dist0 = df.dist\n",
    "l = len(y)"
   ]
  },
  {
   "cell_type": "code",
   "execution_count": 3,
   "id": "bf78b4fa",
   "metadata": {},
   "outputs": [
    {
     "data": {
      "text/html": [
       "<div>\n",
       "<style scoped>\n",
       "    .dataframe tbody tr th:only-of-type {\n",
       "        vertical-align: middle;\n",
       "    }\n",
       "\n",
       "    .dataframe tbody tr th {\n",
       "        vertical-align: top;\n",
       "    }\n",
       "\n",
       "    .dataframe thead th {\n",
       "        text-align: right;\n",
       "    }\n",
       "</style>\n",
       "<table border=\"1\" class=\"dataframe\">\n",
       "  <thead>\n",
       "    <tr style=\"text-align: right;\">\n",
       "      <th></th>\n",
       "      <th>x</th>\n",
       "      <th>y</th>\n",
       "      <th>z</th>\n",
       "      <th>q</th>\n",
       "      <th>Unnamed: 4</th>\n",
       "      <th>act_x</th>\n",
       "      <th>act_y</th>\n",
       "      <th>dist</th>\n",
       "    </tr>\n",
       "  </thead>\n",
       "  <tbody>\n",
       "    <tr>\n",
       "      <th>0</th>\n",
       "      <td>3963</td>\n",
       "      <td>2483</td>\n",
       "      <td>333</td>\n",
       "      <td>82</td>\n",
       "      <td>NaN</td>\n",
       "      <td>3.916</td>\n",
       "      <td>2.465</td>\n",
       "      <td>0.050329</td>\n",
       "    </tr>\n",
       "    <tr>\n",
       "      <th>1</th>\n",
       "      <td>3958</td>\n",
       "      <td>2480</td>\n",
       "      <td>342</td>\n",
       "      <td>83</td>\n",
       "      <td>NaN</td>\n",
       "      <td>NaN</td>\n",
       "      <td>NaN</td>\n",
       "      <td>0.044598</td>\n",
       "    </tr>\n",
       "    <tr>\n",
       "      <th>2</th>\n",
       "      <td>3941</td>\n",
       "      <td>2464</td>\n",
       "      <td>292</td>\n",
       "      <td>78</td>\n",
       "      <td>NaN</td>\n",
       "      <td>NaN</td>\n",
       "      <td>NaN</td>\n",
       "      <td>0.025020</td>\n",
       "    </tr>\n",
       "    <tr>\n",
       "      <th>3</th>\n",
       "      <td>3929</td>\n",
       "      <td>2466</td>\n",
       "      <td>282</td>\n",
       "      <td>81</td>\n",
       "      <td>NaN</td>\n",
       "      <td>NaN</td>\n",
       "      <td>NaN</td>\n",
       "      <td>0.013038</td>\n",
       "    </tr>\n",
       "    <tr>\n",
       "      <th>4</th>\n",
       "      <td>3940</td>\n",
       "      <td>2489</td>\n",
       "      <td>312</td>\n",
       "      <td>84</td>\n",
       "      <td>NaN</td>\n",
       "      <td>NaN</td>\n",
       "      <td>NaN</td>\n",
       "      <td>0.033941</td>\n",
       "    </tr>\n",
       "    <tr>\n",
       "      <th>...</th>\n",
       "      <td>...</td>\n",
       "      <td>...</td>\n",
       "      <td>...</td>\n",
       "      <td>...</td>\n",
       "      <td>...</td>\n",
       "      <td>...</td>\n",
       "      <td>...</td>\n",
       "      <td>...</td>\n",
       "    </tr>\n",
       "    <tr>\n",
       "      <th>95</th>\n",
       "      <td>3933</td>\n",
       "      <td>2444</td>\n",
       "      <td>289</td>\n",
       "      <td>82</td>\n",
       "      <td>NaN</td>\n",
       "      <td>NaN</td>\n",
       "      <td>NaN</td>\n",
       "      <td>0.027019</td>\n",
       "    </tr>\n",
       "    <tr>\n",
       "      <th>96</th>\n",
       "      <td>3944</td>\n",
       "      <td>2452</td>\n",
       "      <td>328</td>\n",
       "      <td>84</td>\n",
       "      <td>NaN</td>\n",
       "      <td>NaN</td>\n",
       "      <td>NaN</td>\n",
       "      <td>0.030871</td>\n",
       "    </tr>\n",
       "    <tr>\n",
       "      <th>97</th>\n",
       "      <td>3950</td>\n",
       "      <td>2440</td>\n",
       "      <td>318</td>\n",
       "      <td>81</td>\n",
       "      <td>NaN</td>\n",
       "      <td>NaN</td>\n",
       "      <td>NaN</td>\n",
       "      <td>0.042202</td>\n",
       "    </tr>\n",
       "    <tr>\n",
       "      <th>98</th>\n",
       "      <td>3955</td>\n",
       "      <td>2452</td>\n",
       "      <td>322</td>\n",
       "      <td>82</td>\n",
       "      <td>NaN</td>\n",
       "      <td>NaN</td>\n",
       "      <td>NaN</td>\n",
       "      <td>0.041110</td>\n",
       "    </tr>\n",
       "    <tr>\n",
       "      <th>99</th>\n",
       "      <td>3953</td>\n",
       "      <td>2451</td>\n",
       "      <td>311</td>\n",
       "      <td>81</td>\n",
       "      <td>NaN</td>\n",
       "      <td>NaN</td>\n",
       "      <td>NaN</td>\n",
       "      <td>0.039560</td>\n",
       "    </tr>\n",
       "  </tbody>\n",
       "</table>\n",
       "<p>100 rows × 8 columns</p>\n",
       "</div>"
      ],
      "text/plain": [
       "       x     y    z   q  Unnamed: 4  act_x  act_y      dist\n",
       "0   3963  2483  333  82         NaN  3.916  2.465  0.050329\n",
       "1   3958  2480  342  83         NaN    NaN    NaN  0.044598\n",
       "2   3941  2464  292  78         NaN    NaN    NaN  0.025020\n",
       "3   3929  2466  282  81         NaN    NaN    NaN  0.013038\n",
       "4   3940  2489  312  84         NaN    NaN    NaN  0.033941\n",
       "..   ...   ...  ...  ..         ...    ...    ...       ...\n",
       "95  3933  2444  289  82         NaN    NaN    NaN  0.027019\n",
       "96  3944  2452  328  84         NaN    NaN    NaN  0.030871\n",
       "97  3950  2440  318  81         NaN    NaN    NaN  0.042202\n",
       "98  3955  2452  322  82         NaN    NaN    NaN  0.041110\n",
       "99  3953  2451  311  81         NaN    NaN    NaN  0.039560\n",
       "\n",
       "[100 rows x 8 columns]"
      ]
     },
     "execution_count": 3,
     "metadata": {},
     "output_type": "execute_result"
    }
   ],
   "source": [
    "df"
   ]
  },
  {
   "cell_type": "code",
   "execution_count": 4,
   "id": "b5404587",
   "metadata": {},
   "outputs": [
    {
     "data": {
      "text/plain": [
       "pandas.core.series.Series"
      ]
     },
     "execution_count": 4,
     "metadata": {},
     "output_type": "execute_result"
    }
   ],
   "source": [
    "type(dist0)"
   ]
  },
  {
   "cell_type": "code",
   "execution_count": 5,
   "id": "da625dd5",
   "metadata": {},
   "outputs": [
    {
     "data": {
      "text/plain": [
       "100"
      ]
     },
     "execution_count": 5,
     "metadata": {},
     "output_type": "execute_result"
    }
   ],
   "source": [
    "l"
   ]
  },
  {
   "cell_type": "code",
   "execution_count": 6,
   "id": "f2e2eb52",
   "metadata": {},
   "outputs": [
    {
     "data": {
      "text/plain": [
       "pandas.core.series.Series"
      ]
     },
     "execution_count": 6,
     "metadata": {},
     "output_type": "execute_result"
    }
   ],
   "source": [
    "type(y)"
   ]
  },
  {
   "cell_type": "code",
   "execution_count": 7,
   "id": "482fce10",
   "metadata": {},
   "outputs": [],
   "source": [
    "# ground truth y\n",
    "g_y = pd.Series([2.465] * l)\n",
    "g_x = pd.Series([3.916] * l)"
   ]
  },
  {
   "cell_type": "code",
   "execution_count": 8,
   "id": "b15446e5",
   "metadata": {},
   "outputs": [
    {
     "data": {
      "text/plain": [
       "0     2.465\n",
       "1     2.465\n",
       "2     2.465\n",
       "3     2.465\n",
       "4     2.465\n",
       "      ...  \n",
       "95    2.465\n",
       "96    2.465\n",
       "97    2.465\n",
       "98    2.465\n",
       "99    2.465\n",
       "Length: 100, dtype: float64"
      ]
     },
     "execution_count": 8,
     "metadata": {},
     "output_type": "execute_result"
    }
   ],
   "source": [
    "g_y"
   ]
  },
  {
   "cell_type": "code",
   "execution_count": 9,
   "id": "852a0c91",
   "metadata": {},
   "outputs": [
    {
     "data": {
      "text/plain": [
       "0     2.483\n",
       "1     2.480\n",
       "2     2.464\n",
       "3     2.466\n",
       "4     2.489\n",
       "      ...  \n",
       "95    2.444\n",
       "96    2.452\n",
       "97    2.440\n",
       "98    2.452\n",
       "99    2.451\n",
       "Name: y, Length: 100, dtype: float64"
      ]
     },
     "execution_count": 9,
     "metadata": {},
     "output_type": "execute_result"
    }
   ],
   "source": [
    "y"
   ]
  },
  {
   "cell_type": "code",
   "execution_count": 10,
   "id": "65f2284f",
   "metadata": {},
   "outputs": [
    {
     "data": {
      "text/plain": [
       "0     3.963\n",
       "1     3.958\n",
       "2     3.941\n",
       "3     3.929\n",
       "4     3.940\n",
       "      ...  \n",
       "95    3.933\n",
       "96    3.944\n",
       "97    3.950\n",
       "98    3.955\n",
       "99    3.953\n",
       "Name: x, Length: 100, dtype: float64"
      ]
     },
     "execution_count": 10,
     "metadata": {},
     "output_type": "execute_result"
    }
   ],
   "source": [
    "x"
   ]
  },
  {
   "cell_type": "code",
   "execution_count": 11,
   "id": "8e5fa205",
   "metadata": {},
   "outputs": [
    {
     "data": {
      "text/plain": [
       "0     3.916\n",
       "1     3.916\n",
       "2     3.916\n",
       "3     3.916\n",
       "4     3.916\n",
       "      ...  \n",
       "95    3.916\n",
       "96    3.916\n",
       "97    3.916\n",
       "98    3.916\n",
       "99    3.916\n",
       "Length: 100, dtype: float64"
      ]
     },
     "execution_count": 11,
     "metadata": {},
     "output_type": "execute_result"
    }
   ],
   "source": [
    "g_x"
   ]
  },
  {
   "cell_type": "code",
   "execution_count": 12,
   "id": "e8427877",
   "metadata": {},
   "outputs": [],
   "source": [
    "rmse_y = mean_squared_error(y, g_y)"
   ]
  },
  {
   "cell_type": "code",
   "execution_count": 13,
   "id": "1fef5ccf",
   "metadata": {},
   "outputs": [],
   "source": [
    "rmse_x = mean_squared_error(x, g_x)"
   ]
  },
  {
   "cell_type": "code",
   "execution_count": 14,
   "id": "fc6d6f96",
   "metadata": {},
   "outputs": [],
   "source": [
    "rmse_net = math.sqrt(rmse_x**2 + rmse_y**2)"
   ]
  },
  {
   "cell_type": "code",
   "execution_count": 15,
   "id": "9557f87d",
   "metadata": {},
   "outputs": [
    {
     "data": {
      "text/plain": [
       "0.0009068726259514094"
      ]
     },
     "execution_count": 15,
     "metadata": {},
     "output_type": "execute_result"
    }
   ],
   "source": [
    "rmse_net"
   ]
  },
  {
   "cell_type": "code",
   "execution_count": 16,
   "id": "f60e5f65",
   "metadata": {},
   "outputs": [],
   "source": [
    "df1 = pd.read_csv('pose2.csv')[:100]\n",
    "# transfer unit to meter\n",
    "y1 = df1.y.div(1000)\n",
    "x1 = df1.x.div(1000)\n",
    "dist1 = df1.dist\n",
    "l1 = len(y1)"
   ]
  },
  {
   "cell_type": "code",
   "execution_count": 17,
   "id": "dc6e05e1",
   "metadata": {},
   "outputs": [
    {
     "data": {
      "text/html": [
       "<div>\n",
       "<style scoped>\n",
       "    .dataframe tbody tr th:only-of-type {\n",
       "        vertical-align: middle;\n",
       "    }\n",
       "\n",
       "    .dataframe tbody tr th {\n",
       "        vertical-align: top;\n",
       "    }\n",
       "\n",
       "    .dataframe thead th {\n",
       "        text-align: right;\n",
       "    }\n",
       "</style>\n",
       "<table border=\"1\" class=\"dataframe\">\n",
       "  <thead>\n",
       "    <tr style=\"text-align: right;\">\n",
       "      <th></th>\n",
       "      <th>x</th>\n",
       "      <th>y</th>\n",
       "      <th>z</th>\n",
       "      <th>q</th>\n",
       "      <th>Unnamed: 4</th>\n",
       "      <th>act_x</th>\n",
       "      <th>act_y</th>\n",
       "      <th>dist</th>\n",
       "    </tr>\n",
       "  </thead>\n",
       "  <tbody>\n",
       "    <tr>\n",
       "      <th>0</th>\n",
       "      <td>5171</td>\n",
       "      <td>1781</td>\n",
       "      <td>144</td>\n",
       "      <td>69</td>\n",
       "      <td>NaN</td>\n",
       "      <td>5.143</td>\n",
       "      <td>1.947</td>\n",
       "      <td>0.168345</td>\n",
       "    </tr>\n",
       "    <tr>\n",
       "      <th>1</th>\n",
       "      <td>5167</td>\n",
       "      <td>1797</td>\n",
       "      <td>156</td>\n",
       "      <td>71</td>\n",
       "      <td>NaN</td>\n",
       "      <td>NaN</td>\n",
       "      <td>NaN</td>\n",
       "      <td>0.151908</td>\n",
       "    </tr>\n",
       "    <tr>\n",
       "      <th>2</th>\n",
       "      <td>5173</td>\n",
       "      <td>1787</td>\n",
       "      <td>141</td>\n",
       "      <td>68</td>\n",
       "      <td>NaN</td>\n",
       "      <td>NaN</td>\n",
       "      <td>NaN</td>\n",
       "      <td>0.162788</td>\n",
       "    </tr>\n",
       "    <tr>\n",
       "      <th>3</th>\n",
       "      <td>5169</td>\n",
       "      <td>1790</td>\n",
       "      <td>147</td>\n",
       "      <td>70</td>\n",
       "      <td>NaN</td>\n",
       "      <td>NaN</td>\n",
       "      <td>NaN</td>\n",
       "      <td>0.159138</td>\n",
       "    </tr>\n",
       "    <tr>\n",
       "      <th>4</th>\n",
       "      <td>5166</td>\n",
       "      <td>1787</td>\n",
       "      <td>174</td>\n",
       "      <td>72</td>\n",
       "      <td>NaN</td>\n",
       "      <td>NaN</td>\n",
       "      <td>NaN</td>\n",
       "      <td>0.161645</td>\n",
       "    </tr>\n",
       "    <tr>\n",
       "      <th>...</th>\n",
       "      <td>...</td>\n",
       "      <td>...</td>\n",
       "      <td>...</td>\n",
       "      <td>...</td>\n",
       "      <td>...</td>\n",
       "      <td>...</td>\n",
       "      <td>...</td>\n",
       "      <td>...</td>\n",
       "    </tr>\n",
       "    <tr>\n",
       "      <th>95</th>\n",
       "      <td>5179</td>\n",
       "      <td>1816</td>\n",
       "      <td>151</td>\n",
       "      <td>80</td>\n",
       "      <td>NaN</td>\n",
       "      <td>NaN</td>\n",
       "      <td>NaN</td>\n",
       "      <td>0.135857</td>\n",
       "    </tr>\n",
       "    <tr>\n",
       "      <th>96</th>\n",
       "      <td>5191</td>\n",
       "      <td>1778</td>\n",
       "      <td>117</td>\n",
       "      <td>65</td>\n",
       "      <td>NaN</td>\n",
       "      <td>NaN</td>\n",
       "      <td>NaN</td>\n",
       "      <td>0.175684</td>\n",
       "    </tr>\n",
       "    <tr>\n",
       "      <th>97</th>\n",
       "      <td>5184</td>\n",
       "      <td>1779</td>\n",
       "      <td>117</td>\n",
       "      <td>69</td>\n",
       "      <td>NaN</td>\n",
       "      <td>NaN</td>\n",
       "      <td>NaN</td>\n",
       "      <td>0.172931</td>\n",
       "    </tr>\n",
       "    <tr>\n",
       "      <th>98</th>\n",
       "      <td>5171</td>\n",
       "      <td>1771</td>\n",
       "      <td>118</td>\n",
       "      <td>69</td>\n",
       "      <td>NaN</td>\n",
       "      <td>NaN</td>\n",
       "      <td>NaN</td>\n",
       "      <td>0.178213</td>\n",
       "    </tr>\n",
       "    <tr>\n",
       "      <th>99</th>\n",
       "      <td>5175</td>\n",
       "      <td>1768</td>\n",
       "      <td>119</td>\n",
       "      <td>69</td>\n",
       "      <td>NaN</td>\n",
       "      <td>NaN</td>\n",
       "      <td>NaN</td>\n",
       "      <td>0.181838</td>\n",
       "    </tr>\n",
       "  </tbody>\n",
       "</table>\n",
       "<p>100 rows × 8 columns</p>\n",
       "</div>"
      ],
      "text/plain": [
       "       x     y    z   q  Unnamed: 4  act_x  act_y      dist\n",
       "0   5171  1781  144  69         NaN  5.143  1.947  0.168345\n",
       "1   5167  1797  156  71         NaN    NaN    NaN  0.151908\n",
       "2   5173  1787  141  68         NaN    NaN    NaN  0.162788\n",
       "3   5169  1790  147  70         NaN    NaN    NaN  0.159138\n",
       "4   5166  1787  174  72         NaN    NaN    NaN  0.161645\n",
       "..   ...   ...  ...  ..         ...    ...    ...       ...\n",
       "95  5179  1816  151  80         NaN    NaN    NaN  0.135857\n",
       "96  5191  1778  117  65         NaN    NaN    NaN  0.175684\n",
       "97  5184  1779  117  69         NaN    NaN    NaN  0.172931\n",
       "98  5171  1771  118  69         NaN    NaN    NaN  0.178213\n",
       "99  5175  1768  119  69         NaN    NaN    NaN  0.181838\n",
       "\n",
       "[100 rows x 8 columns]"
      ]
     },
     "execution_count": 17,
     "metadata": {},
     "output_type": "execute_result"
    }
   ],
   "source": [
    "df1"
   ]
  },
  {
   "cell_type": "code",
   "execution_count": 18,
   "id": "bf21d5f8",
   "metadata": {},
   "outputs": [
    {
     "data": {
      "text/plain": [
       "0     0.168345\n",
       "1     0.151908\n",
       "2     0.162788\n",
       "3     0.159138\n",
       "4     0.161645\n",
       "        ...   \n",
       "95    0.135857\n",
       "96    0.175684\n",
       "97    0.172931\n",
       "98    0.178213\n",
       "99    0.181838\n",
       "Name: dist, Length: 100, dtype: float64"
      ]
     },
     "execution_count": 18,
     "metadata": {},
     "output_type": "execute_result"
    }
   ],
   "source": [
    "dist1"
   ]
  },
  {
   "cell_type": "code",
   "execution_count": 19,
   "id": "2d530ce7",
   "metadata": {},
   "outputs": [
    {
     "data": {
      "text/plain": [
       "100"
      ]
     },
     "execution_count": 19,
     "metadata": {},
     "output_type": "execute_result"
    }
   ],
   "source": [
    "l1"
   ]
  },
  {
   "cell_type": "code",
   "execution_count": 20,
   "id": "830f6141",
   "metadata": {},
   "outputs": [],
   "source": [
    "# ground truth y\n",
    "g_y1 = pd.Series([1.947] * l1)\n",
    "g_x1 = pd.Series([5.143] * l1)\n",
    "rmse_y1 = mean_squared_error(y1, g_y1)\n",
    "rmse_x1 = mean_squared_error(x1, g_x1)\n",
    "rmse_net1 = math.sqrt(rmse_x1 ** 2 + rmse_y1 ** 2)"
   ]
  },
  {
   "cell_type": "code",
   "execution_count": 21,
   "id": "da2b8444",
   "metadata": {},
   "outputs": [
    {
     "data": {
      "text/plain": [
       "0.028572410000000027"
      ]
     },
     "execution_count": 21,
     "metadata": {},
     "output_type": "execute_result"
    }
   ],
   "source": [
    "rmse_y1"
   ]
  },
  {
   "cell_type": "code",
   "execution_count": 22,
   "id": "ac54e678",
   "metadata": {},
   "outputs": [
    {
     "data": {
      "text/plain": [
       "0.0009986000000000107"
      ]
     },
     "execution_count": 22,
     "metadata": {},
     "output_type": "execute_result"
    }
   ],
   "source": [
    "rmse_x1"
   ]
  },
  {
   "cell_type": "code",
   "execution_count": 23,
   "id": "52f28817",
   "metadata": {},
   "outputs": [
    {
     "data": {
      "text/plain": [
       "0.028589855109253378"
      ]
     },
     "execution_count": 23,
     "metadata": {},
     "output_type": "execute_result"
    }
   ],
   "source": [
    "rmse_net1"
   ]
  },
  {
   "cell_type": "code",
   "execution_count": 24,
   "id": "dbb6622a",
   "metadata": {},
   "outputs": [],
   "source": [
    "df2 = pd.read_csv('pose3.csv')[:100]\n",
    "# transfer unit to meter\n",
    "y2 = df2.y.div(1000)\n",
    "x2 = df2.x.div(1000)\n",
    "dist2 = df2.dist\n",
    "l2 = len(y2)"
   ]
  },
  {
   "cell_type": "code",
   "execution_count": 25,
   "id": "e5152669",
   "metadata": {},
   "outputs": [
    {
     "data": {
      "text/html": [
       "<div>\n",
       "<style scoped>\n",
       "    .dataframe tbody tr th:only-of-type {\n",
       "        vertical-align: middle;\n",
       "    }\n",
       "\n",
       "    .dataframe tbody tr th {\n",
       "        vertical-align: top;\n",
       "    }\n",
       "\n",
       "    .dataframe thead th {\n",
       "        text-align: right;\n",
       "    }\n",
       "</style>\n",
       "<table border=\"1\" class=\"dataframe\">\n",
       "  <thead>\n",
       "    <tr style=\"text-align: right;\">\n",
       "      <th></th>\n",
       "      <th>x</th>\n",
       "      <th>y</th>\n",
       "      <th>z</th>\n",
       "      <th>q</th>\n",
       "      <th>Unnamed: 4</th>\n",
       "      <th>act_x</th>\n",
       "      <th>act_y</th>\n",
       "      <th>dist</th>\n",
       "    </tr>\n",
       "  </thead>\n",
       "  <tbody>\n",
       "    <tr>\n",
       "      <th>0</th>\n",
       "      <td>6674</td>\n",
       "      <td>4880</td>\n",
       "      <td>202</td>\n",
       "      <td>55</td>\n",
       "      <td>NaN</td>\n",
       "      <td>6.641</td>\n",
       "      <td>4.788</td>\n",
       "      <td>0.097739</td>\n",
       "    </tr>\n",
       "    <tr>\n",
       "      <th>1</th>\n",
       "      <td>6676</td>\n",
       "      <td>4873</td>\n",
       "      <td>204</td>\n",
       "      <td>54</td>\n",
       "      <td>NaN</td>\n",
       "      <td>NaN</td>\n",
       "      <td>NaN</td>\n",
       "      <td>0.091924</td>\n",
       "    </tr>\n",
       "    <tr>\n",
       "      <th>2</th>\n",
       "      <td>6677</td>\n",
       "      <td>4886</td>\n",
       "      <td>195</td>\n",
       "      <td>54</td>\n",
       "      <td>NaN</td>\n",
       "      <td>NaN</td>\n",
       "      <td>NaN</td>\n",
       "      <td>0.104403</td>\n",
       "    </tr>\n",
       "    <tr>\n",
       "      <th>3</th>\n",
       "      <td>6641</td>\n",
       "      <td>4886</td>\n",
       "      <td>237</td>\n",
       "      <td>65</td>\n",
       "      <td>NaN</td>\n",
       "      <td>NaN</td>\n",
       "      <td>NaN</td>\n",
       "      <td>0.098000</td>\n",
       "    </tr>\n",
       "    <tr>\n",
       "      <th>4</th>\n",
       "      <td>6645</td>\n",
       "      <td>4886</td>\n",
       "      <td>239</td>\n",
       "      <td>56</td>\n",
       "      <td>NaN</td>\n",
       "      <td>NaN</td>\n",
       "      <td>NaN</td>\n",
       "      <td>0.098082</td>\n",
       "    </tr>\n",
       "    <tr>\n",
       "      <th>...</th>\n",
       "      <td>...</td>\n",
       "      <td>...</td>\n",
       "      <td>...</td>\n",
       "      <td>...</td>\n",
       "      <td>...</td>\n",
       "      <td>...</td>\n",
       "      <td>...</td>\n",
       "      <td>...</td>\n",
       "    </tr>\n",
       "    <tr>\n",
       "      <th>95</th>\n",
       "      <td>6658</td>\n",
       "      <td>4892</td>\n",
       "      <td>226</td>\n",
       "      <td>57</td>\n",
       "      <td>NaN</td>\n",
       "      <td>NaN</td>\n",
       "      <td>NaN</td>\n",
       "      <td>0.105380</td>\n",
       "    </tr>\n",
       "    <tr>\n",
       "      <th>96</th>\n",
       "      <td>6660</td>\n",
       "      <td>4892</td>\n",
       "      <td>227</td>\n",
       "      <td>56</td>\n",
       "      <td>NaN</td>\n",
       "      <td>NaN</td>\n",
       "      <td>NaN</td>\n",
       "      <td>0.105721</td>\n",
       "    </tr>\n",
       "    <tr>\n",
       "      <th>97</th>\n",
       "      <td>6660</td>\n",
       "      <td>4896</td>\n",
       "      <td>222</td>\n",
       "      <td>55</td>\n",
       "      <td>NaN</td>\n",
       "      <td>NaN</td>\n",
       "      <td>NaN</td>\n",
       "      <td>0.109659</td>\n",
       "    </tr>\n",
       "    <tr>\n",
       "      <th>98</th>\n",
       "      <td>6661</td>\n",
       "      <td>4889</td>\n",
       "      <td>220</td>\n",
       "      <td>55</td>\n",
       "      <td>NaN</td>\n",
       "      <td>NaN</td>\n",
       "      <td>NaN</td>\n",
       "      <td>0.102961</td>\n",
       "    </tr>\n",
       "    <tr>\n",
       "      <th>99</th>\n",
       "      <td>6662</td>\n",
       "      <td>4878</td>\n",
       "      <td>216</td>\n",
       "      <td>54</td>\n",
       "      <td>NaN</td>\n",
       "      <td>NaN</td>\n",
       "      <td>NaN</td>\n",
       "      <td>0.092418</td>\n",
       "    </tr>\n",
       "  </tbody>\n",
       "</table>\n",
       "<p>100 rows × 8 columns</p>\n",
       "</div>"
      ],
      "text/plain": [
       "       x     y    z   q  Unnamed: 4  act_x  act_y      dist\n",
       "0   6674  4880  202  55         NaN  6.641  4.788  0.097739\n",
       "1   6676  4873  204  54         NaN    NaN    NaN  0.091924\n",
       "2   6677  4886  195  54         NaN    NaN    NaN  0.104403\n",
       "3   6641  4886  237  65         NaN    NaN    NaN  0.098000\n",
       "4   6645  4886  239  56         NaN    NaN    NaN  0.098082\n",
       "..   ...   ...  ...  ..         ...    ...    ...       ...\n",
       "95  6658  4892  226  57         NaN    NaN    NaN  0.105380\n",
       "96  6660  4892  227  56         NaN    NaN    NaN  0.105721\n",
       "97  6660  4896  222  55         NaN    NaN    NaN  0.109659\n",
       "98  6661  4889  220  55         NaN    NaN    NaN  0.102961\n",
       "99  6662  4878  216  54         NaN    NaN    NaN  0.092418\n",
       "\n",
       "[100 rows x 8 columns]"
      ]
     },
     "execution_count": 25,
     "metadata": {},
     "output_type": "execute_result"
    }
   ],
   "source": [
    "df2"
   ]
  },
  {
   "cell_type": "code",
   "execution_count": 26,
   "id": "500c0605",
   "metadata": {},
   "outputs": [
    {
     "data": {
      "text/plain": [
       "0     0.097739\n",
       "1     0.091924\n",
       "2     0.104403\n",
       "3     0.098000\n",
       "4     0.098082\n",
       "        ...   \n",
       "95    0.105380\n",
       "96    0.105721\n",
       "97    0.109659\n",
       "98    0.102961\n",
       "99    0.092418\n",
       "Name: dist, Length: 100, dtype: float64"
      ]
     },
     "execution_count": 26,
     "metadata": {},
     "output_type": "execute_result"
    }
   ],
   "source": [
    "dist2"
   ]
  },
  {
   "cell_type": "code",
   "execution_count": 27,
   "id": "307ad586",
   "metadata": {},
   "outputs": [
    {
     "data": {
      "text/plain": [
       "100"
      ]
     },
     "execution_count": 27,
     "metadata": {},
     "output_type": "execute_result"
    }
   ],
   "source": [
    "l2"
   ]
  },
  {
   "cell_type": "code",
   "execution_count": 28,
   "id": "eca8124d",
   "metadata": {},
   "outputs": [],
   "source": [
    "g_y2 = pd.Series([4.788] * l2)\n",
    "g_x2 = pd.Series([6.641] * l2)\n",
    "rmse_y2 = mean_squared_error(y2, g_y2)\n",
    "rmse_x2 = mean_squared_error(x2, g_x2)\n",
    "rmse_net2 = math.sqrt(rmse_x2 ** 2 + rmse_y2 ** 2)"
   ]
  },
  {
   "cell_type": "code",
   "execution_count": 29,
   "id": "12d69694",
   "metadata": {},
   "outputs": [
    {
     "data": {
      "text/plain": [
       "0.008655439999999964"
      ]
     },
     "execution_count": 29,
     "metadata": {},
     "output_type": "execute_result"
    }
   ],
   "source": [
    "rmse_y2"
   ]
  },
  {
   "cell_type": "code",
   "execution_count": 30,
   "id": "85ededfc",
   "metadata": {},
   "outputs": [
    {
     "data": {
      "text/plain": [
       "0.00042019999999999905"
      ]
     },
     "execution_count": 30,
     "metadata": {},
     "output_type": "execute_result"
    }
   ],
   "source": [
    "rmse_x2"
   ]
  },
  {
   "cell_type": "code",
   "execution_count": 31,
   "id": "5ed40fbf",
   "metadata": {},
   "outputs": [
    {
     "data": {
      "text/plain": [
       "0.008665633827574263"
      ]
     },
     "execution_count": 31,
     "metadata": {},
     "output_type": "execute_result"
    }
   ],
   "source": [
    "rmse_net2"
   ]
  },
  {
   "cell_type": "code",
   "execution_count": 32,
   "id": "e635cf71",
   "metadata": {},
   "outputs": [],
   "source": [
    "rmse = (rmse_net*l + rmse_net1*l1+rmse_net2*l2)/(l + l1 + l2)"
   ]
  },
  {
   "cell_type": "code",
   "execution_count": 33,
   "id": "4ea15d37",
   "metadata": {},
   "outputs": [
    {
     "data": {
      "text/plain": [
       "0.012720787187593018"
      ]
     },
     "execution_count": 33,
     "metadata": {},
     "output_type": "execute_result"
    }
   ],
   "source": [
    "rmse"
   ]
  },
  {
   "cell_type": "code",
   "execution_count": 34,
   "id": "2617eae8",
   "metadata": {},
   "outputs": [],
   "source": [
    "df3 = pd.read_csv('pose4.csv')[:100]\n",
    "# transfer unit to meter\n",
    "y3 = df3.y.div(1000)\n",
    "x3 = df3.x.div(1000)\n",
    "dist3 = df3.dist\n",
    "l3 = len(y3)"
   ]
  },
  {
   "cell_type": "code",
   "execution_count": 35,
   "id": "4dbf4e38",
   "metadata": {},
   "outputs": [
    {
     "data": {
      "text/plain": [
       "0     0.126606\n",
       "1     0.129530\n",
       "2     0.131229\n",
       "3     0.138235\n",
       "4     0.140943\n",
       "        ...   \n",
       "95    0.139402\n",
       "96    0.137877\n",
       "97    0.142874\n",
       "98    0.138405\n",
       "99    0.133222\n",
       "Name: dist, Length: 100, dtype: float64"
      ]
     },
     "execution_count": 35,
     "metadata": {},
     "output_type": "execute_result"
    }
   ],
   "source": [
    "dist3"
   ]
  },
  {
   "cell_type": "code",
   "execution_count": 36,
   "id": "e49f7ef1",
   "metadata": {},
   "outputs": [],
   "source": [
    "df4 = pd.read_csv('pose5.csv')[:100]\n",
    "# transfer unit to meter\n",
    "dist4 = df4.dist"
   ]
  },
  {
   "cell_type": "code",
   "execution_count": 37,
   "id": "f5c978c5",
   "metadata": {},
   "outputs": [
    {
     "data": {
      "text/plain": [
       "0     0.206584\n",
       "1     0.206313\n",
       "2     0.216945\n",
       "3     0.214709\n",
       "4     0.222910\n",
       "        ...   \n",
       "95    0.227407\n",
       "96    0.241102\n",
       "97    0.241680\n",
       "98    0.228327\n",
       "99    0.229943\n",
       "Name: dist, Length: 100, dtype: float64"
      ]
     },
     "execution_count": 37,
     "metadata": {},
     "output_type": "execute_result"
    }
   ],
   "source": [
    "dist4"
   ]
  },
  {
   "cell_type": "code",
   "execution_count": 38,
   "id": "94ede193",
   "metadata": {},
   "outputs": [],
   "source": [
    "df5 = pd.read_csv('pose6.csv')[:100]\n",
    "# transfer unit to meter\n",
    "dist5 = df5.dist"
   ]
  },
  {
   "cell_type": "code",
   "execution_count": 39,
   "id": "936b1d8f",
   "metadata": {},
   "outputs": [
    {
     "data": {
      "text/plain": [
       "0     0.067417\n",
       "1     0.067978\n",
       "2     0.075133\n",
       "3     0.062650\n",
       "4     0.078772\n",
       "        ...   \n",
       "95    0.060208\n",
       "96    0.057280\n",
       "97    0.074216\n",
       "98    0.064938\n",
       "99    0.065115\n",
       "Name: dist, Length: 100, dtype: float64"
      ]
     },
     "execution_count": 39,
     "metadata": {},
     "output_type": "execute_result"
    }
   ],
   "source": [
    "dist5"
   ]
  },
  {
   "cell_type": "code",
   "execution_count": 64,
   "id": "6b895066",
   "metadata": {},
   "outputs": [],
   "source": [
    "df6 = pd.read_csv('pose7.csv')[:100]\n",
    "# transfer unit to meter\n",
    "dist6 = df6.dist"
   ]
  },
  {
   "cell_type": "code",
   "execution_count": 41,
   "id": "036cfb37",
   "metadata": {},
   "outputs": [
    {
     "data": {
      "text/plain": [
       "0     0.016401\n",
       "1     0.027803\n",
       "2     0.026000\n",
       "3     0.035735\n",
       "4     0.031953\n",
       "        ...   \n",
       "95    0.038013\n",
       "96    0.036235\n",
       "97    0.031828\n",
       "98    0.027803\n",
       "99    0.032140\n",
       "Name: dist, Length: 100, dtype: float64"
      ]
     },
     "execution_count": 41,
     "metadata": {},
     "output_type": "execute_result"
    }
   ],
   "source": [
    "dist6"
   ]
  },
  {
   "cell_type": "code",
   "execution_count": 42,
   "id": "f19777d3",
   "metadata": {},
   "outputs": [],
   "source": [
    "df7 = pd.read_csv('pose8.csv')[:100]\n",
    "# transfer unit to meter\n",
    "dist7 = df7.dist"
   ]
  },
  {
   "cell_type": "code",
   "execution_count": 43,
   "id": "0d021032",
   "metadata": {},
   "outputs": [
    {
     "data": {
      "text/plain": [
       "0     0.121198\n",
       "1     0.123976\n",
       "2     0.121211\n",
       "3     0.117661\n",
       "4     0.111414\n",
       "        ...   \n",
       "95    0.169859\n",
       "96    0.136561\n",
       "97    0.127224\n",
       "98    0.115836\n",
       "99    0.125300\n",
       "Name: dist, Length: 100, dtype: float64"
      ]
     },
     "execution_count": 43,
     "metadata": {},
     "output_type": "execute_result"
    }
   ],
   "source": [
    "dist7"
   ]
  },
  {
   "cell_type": "code",
   "execution_count": 44,
   "id": "3299406c",
   "metadata": {},
   "outputs": [],
   "source": [
    "df8 = pd.read_csv('pose9.csv')[:100]\n",
    "# transfer unit to meter\n",
    "dist8 = df8.dist"
   ]
  },
  {
   "cell_type": "code",
   "execution_count": 45,
   "id": "5ccf4440",
   "metadata": {},
   "outputs": [
    {
     "data": {
      "text/plain": [
       "0     0.146154\n",
       "1     0.136781\n",
       "2     0.150881\n",
       "3     0.161301\n",
       "4     0.155541\n",
       "        ...   \n",
       "95    0.153525\n",
       "96    0.158808\n",
       "97    0.160112\n",
       "98    0.166517\n",
       "99    0.163175\n",
       "Name: dist, Length: 100, dtype: float64"
      ]
     },
     "execution_count": 45,
     "metadata": {},
     "output_type": "execute_result"
    }
   ],
   "source": [
    "dist8"
   ]
  },
  {
   "cell_type": "code",
   "execution_count": 46,
   "id": "9bceb32f",
   "metadata": {},
   "outputs": [],
   "source": [
    "df9 = pd.read_csv('pose10.csv')[:100]\n",
    "# transfer unit to meter\n",
    "dist9 = df9.dist"
   ]
  },
  {
   "cell_type": "code",
   "execution_count": 47,
   "id": "8b1994b1",
   "metadata": {},
   "outputs": [
    {
     "data": {
      "text/plain": [
       "0     0.330775\n",
       "1     0.339012\n",
       "2     0.341315\n",
       "3     0.331242\n",
       "4     0.304030\n",
       "        ...   \n",
       "95    0.312431\n",
       "96    0.308367\n",
       "97    0.309115\n",
       "98    0.316639\n",
       "99    0.318780\n",
       "Name: dist, Length: 100, dtype: float64"
      ]
     },
     "execution_count": 47,
     "metadata": {},
     "output_type": "execute_result"
    }
   ],
   "source": [
    "dist9"
   ]
  },
  {
   "cell_type": "code",
   "execution_count": 48,
   "id": "80239df7",
   "metadata": {},
   "outputs": [],
   "source": [
    "df10 = pd.read_csv('pose11.csv')[:100]\n",
    "# transfer unit to meter\n",
    "dist10 = df10.dist"
   ]
  },
  {
   "cell_type": "code",
   "execution_count": 49,
   "id": "053437ca",
   "metadata": {},
   "outputs": [
    {
     "data": {
      "text/plain": [
       "0     0.135326\n",
       "1     0.131727\n",
       "2     0.136000\n",
       "3     0.132503\n",
       "4     0.132850\n",
       "        ...   \n",
       "95    0.126491\n",
       "96    0.133810\n",
       "97    0.133255\n",
       "98    0.133454\n",
       "99    0.131210\n",
       "Name: dist, Length: 100, dtype: float64"
      ]
     },
     "execution_count": 49,
     "metadata": {},
     "output_type": "execute_result"
    }
   ],
   "source": [
    "dist10"
   ]
  },
  {
   "cell_type": "code",
   "execution_count": 100,
   "id": "e16e6460",
   "metadata": {},
   "outputs": [],
   "source": [
    "df11 = pd.read_csv('pose12.csv')[:100]\n",
    "df12 = pd.read_csv('pose13.csv')[:100]\n",
    "df13 = pd.read_csv('pose14.csv')[:100]\n",
    "df14 = pd.read_csv('pose15.csv')[:100]\n",
    "df15 = pd.read_csv('pose16.csv')[:100]\n",
    "df16 = pd.read_csv('pose17.csv')[:100]\n",
    "df17 = pd.read_csv('pose18.csv')[:100]\n",
    "df18 = pd.read_csv('pose19.csv')[:100]\n",
    "df19 = pd.read_csv('pose20.csv')[:100]\n",
    "df20 = pd.read_csv('pose21.csv')[:100]\n",
    "df21 = pd.read_csv('pose22.csv')[:100]\n",
    "df22 = pd.read_csv('pose23.csv')[:100]\n",
    "df23 = pd.read_csv('pose24.csv')[:100]\n",
    "df24 = pd.read_csv('pose25.csv')[:100]\n",
    "# transfer unit to meter\n",
    "dist11 = df11.dist"
   ]
  },
  {
   "cell_type": "code",
   "execution_count": 63,
   "id": "cca6bb60",
   "metadata": {},
   "outputs": [
    {
     "data": {
      "text/plain": [
       "0     0.134848\n",
       "1     0.130096\n",
       "2     0.120801\n",
       "3     0.124278\n",
       "4     0.119633\n",
       "        ...   \n",
       "95    0.120603\n",
       "96    0.120000\n",
       "97    0.128004\n",
       "98    0.133686\n",
       "99    0.126372\n",
       "Name: dist, Length: 100, dtype: float64"
      ]
     },
     "execution_count": 63,
     "metadata": {},
     "output_type": "execute_result"
    }
   ],
   "source": [
    "dist11"
   ]
  },
  {
   "cell_type": "code",
   "execution_count": null,
   "id": "b84db6b7",
   "metadata": {},
   "outputs": [],
   "source": []
  },
  {
   "cell_type": "code",
   "execution_count": 101,
   "id": "4da14b1b",
   "metadata": {},
   "outputs": [],
   "source": [
    "frames = [df, df1, df2, df3, df4, df5, df6, df7, df8, df9, df10, df11, df12, df13, df14, df15, df16, df17, df18, df19, df20, df21, df22, df23, df24]\n",
    "result = pd.concat(frames)"
   ]
  },
  {
   "cell_type": "raw",
   "id": "8dee8d10",
   "metadata": {},
   "source": [
    "result"
   ]
  },
  {
   "cell_type": "code",
   "execution_count": 72,
   "id": "d514b3ce",
   "metadata": {},
   "outputs": [
    {
     "data": {
      "text/html": [
       "<div>\n",
       "<style scoped>\n",
       "    .dataframe tbody tr th:only-of-type {\n",
       "        vertical-align: middle;\n",
       "    }\n",
       "\n",
       "    .dataframe tbody tr th {\n",
       "        vertical-align: top;\n",
       "    }\n",
       "\n",
       "    .dataframe thead th {\n",
       "        text-align: right;\n",
       "    }\n",
       "</style>\n",
       "<table border=\"1\" class=\"dataframe\">\n",
       "  <thead>\n",
       "    <tr style=\"text-align: right;\">\n",
       "      <th></th>\n",
       "      <th>x</th>\n",
       "      <th>y</th>\n",
       "      <th>z</th>\n",
       "      <th>q</th>\n",
       "      <th>Unnamed: 4</th>\n",
       "      <th>act_x</th>\n",
       "      <th>act_y</th>\n",
       "      <th>dist</th>\n",
       "    </tr>\n",
       "  </thead>\n",
       "  <tbody>\n",
       "    <tr>\n",
       "      <th>0</th>\n",
       "      <td>3963</td>\n",
       "      <td>2483</td>\n",
       "      <td>333</td>\n",
       "      <td>82</td>\n",
       "      <td>NaN</td>\n",
       "      <td>3.916</td>\n",
       "      <td>2.465</td>\n",
       "      <td>0.050329</td>\n",
       "    </tr>\n",
       "    <tr>\n",
       "      <th>1</th>\n",
       "      <td>3958</td>\n",
       "      <td>2480</td>\n",
       "      <td>342</td>\n",
       "      <td>83</td>\n",
       "      <td>NaN</td>\n",
       "      <td>NaN</td>\n",
       "      <td>NaN</td>\n",
       "      <td>0.044598</td>\n",
       "    </tr>\n",
       "    <tr>\n",
       "      <th>2</th>\n",
       "      <td>3941</td>\n",
       "      <td>2464</td>\n",
       "      <td>292</td>\n",
       "      <td>78</td>\n",
       "      <td>NaN</td>\n",
       "      <td>NaN</td>\n",
       "      <td>NaN</td>\n",
       "      <td>0.025020</td>\n",
       "    </tr>\n",
       "    <tr>\n",
       "      <th>3</th>\n",
       "      <td>3929</td>\n",
       "      <td>2466</td>\n",
       "      <td>282</td>\n",
       "      <td>81</td>\n",
       "      <td>NaN</td>\n",
       "      <td>NaN</td>\n",
       "      <td>NaN</td>\n",
       "      <td>0.013038</td>\n",
       "    </tr>\n",
       "    <tr>\n",
       "      <th>4</th>\n",
       "      <td>3940</td>\n",
       "      <td>2489</td>\n",
       "      <td>312</td>\n",
       "      <td>84</td>\n",
       "      <td>NaN</td>\n",
       "      <td>NaN</td>\n",
       "      <td>NaN</td>\n",
       "      <td>0.033941</td>\n",
       "    </tr>\n",
       "    <tr>\n",
       "      <th>...</th>\n",
       "      <td>...</td>\n",
       "      <td>...</td>\n",
       "      <td>...</td>\n",
       "      <td>...</td>\n",
       "      <td>...</td>\n",
       "      <td>...</td>\n",
       "      <td>...</td>\n",
       "      <td>...</td>\n",
       "    </tr>\n",
       "    <tr>\n",
       "      <th>95</th>\n",
       "      <td>4301</td>\n",
       "      <td>2782</td>\n",
       "      <td>4294967079</td>\n",
       "      <td>70</td>\n",
       "      <td>NaN</td>\n",
       "      <td>NaN</td>\n",
       "      <td>NaN</td>\n",
       "      <td>0.131548</td>\n",
       "    </tr>\n",
       "    <tr>\n",
       "      <th>96</th>\n",
       "      <td>4295</td>\n",
       "      <td>2784</td>\n",
       "      <td>4294967077</td>\n",
       "      <td>70</td>\n",
       "      <td>NaN</td>\n",
       "      <td>NaN</td>\n",
       "      <td>NaN</td>\n",
       "      <td>0.126764</td>\n",
       "    </tr>\n",
       "    <tr>\n",
       "      <th>97</th>\n",
       "      <td>4298</td>\n",
       "      <td>2779</td>\n",
       "      <td>4294967065</td>\n",
       "      <td>69</td>\n",
       "      <td>NaN</td>\n",
       "      <td>NaN</td>\n",
       "      <td>NaN</td>\n",
       "      <td>0.132593</td>\n",
       "    </tr>\n",
       "    <tr>\n",
       "      <th>98</th>\n",
       "      <td>4302</td>\n",
       "      <td>2788</td>\n",
       "      <td>4294967072</td>\n",
       "      <td>71</td>\n",
       "      <td>NaN</td>\n",
       "      <td>NaN</td>\n",
       "      <td>NaN</td>\n",
       "      <td>0.127028</td>\n",
       "    </tr>\n",
       "    <tr>\n",
       "      <th>99</th>\n",
       "      <td>4295</td>\n",
       "      <td>2781</td>\n",
       "      <td>4294967072</td>\n",
       "      <td>70</td>\n",
       "      <td>NaN</td>\n",
       "      <td>NaN</td>\n",
       "      <td>NaN</td>\n",
       "      <td>0.129375</td>\n",
       "    </tr>\n",
       "  </tbody>\n",
       "</table>\n",
       "<p>1400 rows × 8 columns</p>\n",
       "</div>"
      ],
      "text/plain": [
       "       x     y           z   q  Unnamed: 4  act_x  act_y      dist\n",
       "0   3963  2483         333  82         NaN  3.916  2.465  0.050329\n",
       "1   3958  2480         342  83         NaN    NaN    NaN  0.044598\n",
       "2   3941  2464         292  78         NaN    NaN    NaN  0.025020\n",
       "3   3929  2466         282  81         NaN    NaN    NaN  0.013038\n",
       "4   3940  2489         312  84         NaN    NaN    NaN  0.033941\n",
       "..   ...   ...         ...  ..         ...    ...    ...       ...\n",
       "95  4301  2782  4294967079  70         NaN    NaN    NaN  0.131548\n",
       "96  4295  2784  4294967077  70         NaN    NaN    NaN  0.126764\n",
       "97  4298  2779  4294967065  69         NaN    NaN    NaN  0.132593\n",
       "98  4302  2788  4294967072  71         NaN    NaN    NaN  0.127028\n",
       "99  4295  2781  4294967072  70         NaN    NaN    NaN  0.129375\n",
       "\n",
       "[1400 rows x 8 columns]"
      ]
     },
     "execution_count": 72,
     "metadata": {},
     "output_type": "execute_result"
    }
   ],
   "source": [
    "result"
   ]
  },
  {
   "cell_type": "code",
   "execution_count": 102,
   "id": "9d54d3b0",
   "metadata": {},
   "outputs": [],
   "source": [
    "dist = result.dist"
   ]
  },
  {
   "cell_type": "code",
   "execution_count": 103,
   "id": "72ecdfd3",
   "metadata": {},
   "outputs": [
    {
     "data": {
      "text/plain": [
       "0     0.050329\n",
       "1     0.044598\n",
       "2     0.025020\n",
       "3     0.013038\n",
       "4     0.033941\n",
       "        ...   \n",
       "95    0.223466\n",
       "96    0.231366\n",
       "97    0.238883\n",
       "98    0.241537\n",
       "99    0.257498\n",
       "Name: dist, Length: 2500, dtype: float64"
      ]
     },
     "execution_count": 103,
     "metadata": {},
     "output_type": "execute_result"
    }
   ],
   "source": [
    "dist"
   ]
  },
  {
   "cell_type": "code",
   "execution_count": 104,
   "id": "7893a603",
   "metadata": {},
   "outputs": [
    {
     "data": {
      "text/plain": [
       "0.001"
      ]
     },
     "execution_count": 104,
     "metadata": {},
     "output_type": "execute_result"
    }
   ],
   "source": [
    "min(dist)"
   ]
  },
  {
   "cell_type": "code",
   "execution_count": 105,
   "id": "6565f138",
   "metadata": {},
   "outputs": [
    {
     "data": {
      "text/plain": [
       "0.393996192875008"
      ]
     },
     "execution_count": 105,
     "metadata": {},
     "output_type": "execute_result"
    }
   ],
   "source": [
    "max(dist)"
   ]
  },
  {
   "cell_type": "code",
   "execution_count": 93,
   "id": "ba326603",
   "metadata": {},
   "outputs": [],
   "source": [
    "bin_values = np.arange(start=0.0001, stop=0.4, step=0.005)"
   ]
  },
  {
   "cell_type": "code",
   "execution_count": 94,
   "id": "89e2d719",
   "metadata": {},
   "outputs": [
    {
     "data": {
      "text/plain": [
       "array([1.000e-04, 5.100e-03, 1.010e-02, 1.510e-02, 2.010e-02, 2.510e-02,\n",
       "       3.010e-02, 3.510e-02, 4.010e-02, 4.510e-02, 5.010e-02, 5.510e-02,\n",
       "       6.010e-02, 6.510e-02, 7.010e-02, 7.510e-02, 8.010e-02, 8.510e-02,\n",
       "       9.010e-02, 9.510e-02, 1.001e-01, 1.051e-01, 1.101e-01, 1.151e-01,\n",
       "       1.201e-01, 1.251e-01, 1.301e-01, 1.351e-01, 1.401e-01, 1.451e-01,\n",
       "       1.501e-01, 1.551e-01, 1.601e-01, 1.651e-01, 1.701e-01, 1.751e-01,\n",
       "       1.801e-01, 1.851e-01, 1.901e-01, 1.951e-01, 2.001e-01, 2.051e-01,\n",
       "       2.101e-01, 2.151e-01, 2.201e-01, 2.251e-01, 2.301e-01, 2.351e-01,\n",
       "       2.401e-01, 2.451e-01, 2.501e-01, 2.551e-01, 2.601e-01, 2.651e-01,\n",
       "       2.701e-01, 2.751e-01, 2.801e-01, 2.851e-01, 2.901e-01, 2.951e-01,\n",
       "       3.001e-01, 3.051e-01, 3.101e-01, 3.151e-01, 3.201e-01, 3.251e-01,\n",
       "       3.301e-01, 3.351e-01, 3.401e-01, 3.451e-01, 3.501e-01, 3.551e-01,\n",
       "       3.601e-01, 3.651e-01, 3.701e-01, 3.751e-01, 3.801e-01, 3.851e-01,\n",
       "       3.901e-01, 3.951e-01])"
      ]
     },
     "execution_count": 94,
     "metadata": {},
     "output_type": "execute_result"
    }
   ],
   "source": [
    "bin_values"
   ]
  },
  {
   "cell_type": "code",
   "execution_count": 59,
   "id": "8b59ba55",
   "metadata": {},
   "outputs": [
    {
     "name": "stderr",
     "output_type": "stream",
     "text": [
      "/home/mingze/anaconda3/lib/python3.7/site-packages/seaborn/distributions.py:2557: FutureWarning: `distplot` is a deprecated function and will be removed in a future version. Please adapt your code to use either `displot` (a figure-level function with similar flexibility) or `histplot` (an axes-level function for histograms).\n",
      "  warnings.warn(msg, FutureWarning)\n"
     ]
    },
    {
     "data": {
      "image/png": "[encoded data removed]",
      "text/plain": [
       "<Figure size 842.4x595.44 with 1 Axes>"
      ]
     },
     "metadata": {},
     "output_type": "display_data"
    }
   ],
   "source": [
    "sns.set(rc={'figure.figsize':(11.7,8.27)})\n",
    "# Density Plot and Histogram of act_dist\n",
    "# sns.distplot(subset['arr_delay'], hist = False, kde = True,\n",
    "#                  kde_kws = {'shade': True, 'linewidth': 3}, \n",
    "#                   label = airline)\n",
    "# 'shade': True can be used to compare multiple density plot\n",
    "# rug=True , for showing all detailed data\n",
    "sns_plot = sns.distplot(dist0, hist=True, kde=True, \n",
    "             bins=bin_values, color = 'darkblue', \n",
    "             hist_kws={'edgecolor':'black'},\n",
    "             kde_kws={'linewidth': 4})"
   ]
  },
  {
   "cell_type": "code",
   "execution_count": 60,
   "id": "8f9b61ef",
   "metadata": {},
   "outputs": [
    {
     "name": "stderr",
     "output_type": "stream",
     "text": [
      "/home/mingze/anaconda3/lib/python3.7/site-packages/seaborn/distributions.py:2557: FutureWarning: `distplot` is a deprecated function and will be removed in a future version. Please adapt your code to use either `displot` (a figure-level function with similar flexibility) or `histplot` (an axes-level function for histograms).\n",
      "  warnings.warn(msg, FutureWarning)\n"
     ]
    },
    {
     "data": {
      "image/png": "[encoded data removed]",
      "text/plain": [
       "<Figure size 842.4x595.44 with 1 Axes>"
      ]
     },
     "metadata": {},
     "output_type": "display_data"
    }
   ],
   "source": [
    "sns.set(rc={'figure.figsize':(11.7,8.27)})\n",
    "# Density Plot and Histogram of act_dist\n",
    "# sns.distplot(subset['arr_delay'], hist = False, kde = True,\n",
    "#                  kde_kws = {'shade': True, 'linewidth': 3}, \n",
    "#                   label = airline)\n",
    "# 'shade': True can be used to compare multiple density plot\n",
    "# rug=True , for showing all detailed data\n",
    "sns_plot = sns.distplot(dist1, hist=True, kde=True, \n",
    "             bins=bin_values, color = 'darkblue', \n",
    "             hist_kws={'edgecolor':'black'},\n",
    "             kde_kws={'linewidth': 4})"
   ]
  },
  {
   "cell_type": "code",
   "execution_count": 61,
   "id": "97419303",
   "metadata": {},
   "outputs": [
    {
     "name": "stderr",
     "output_type": "stream",
     "text": [
      "/home/mingze/anaconda3/lib/python3.7/site-packages/seaborn/distributions.py:2557: FutureWarning: `distplot` is a deprecated function and will be removed in a future version. Please adapt your code to use either `displot` (a figure-level function with similar flexibility) or `histplot` (an axes-level function for histograms).\n",
      "  warnings.warn(msg, FutureWarning)\n"
     ]
    },
    {
     "data": {
      "image/png": "[encoded data removed]",
      "text/plain": [
       "<Figure size 842.4x595.44 with 1 Axes>"
      ]
     },
     "metadata": {},
     "output_type": "display_data"
    }
   ],
   "source": [
    "sns.set(rc={'figure.figsize':(11.7,8.27)})\n",
    "# Density Plot and Histogram of act_dist\n",
    "# sns.distplot(subset['arr_delay'], hist = False, kde = True,\n",
    "#                  kde_kws = {'shade': True, 'linewidth': 3}, \n",
    "#                   label = airline)\n",
    "# 'shade': True can be used to compare multiple density plot\n",
    "# rug=True , for showing all detailed data\n",
    "sns_plot = sns.distplot(dist2, hist=True, kde=True, \n",
    "             bins=bin_values, color = 'darkblue', \n",
    "             hist_kws={'edgecolor':'black'},\n",
    "             kde_kws={'linewidth': 4})"
   ]
  },
  {
   "cell_type": "code",
   "execution_count": 106,
   "id": "5bd30aca",
   "metadata": {},
   "outputs": [
    {
     "name": "stderr",
     "output_type": "stream",
     "text": [
      "/home/mingze/anaconda3/lib/python3.7/site-packages/seaborn/distributions.py:2557: FutureWarning: `distplot` is a deprecated function and will be removed in a future version. Please adapt your code to use either `displot` (a figure-level function with similar flexibility) or `histplot` (an axes-level function for histograms).\n",
      "  warnings.warn(msg, FutureWarning)\n"
     ]
    },
    {
     "data": {
      "text/plain": [
       "[Text(0.5, 0, 'measurement error')]"
      ]
     },
     "execution_count": 106,
     "metadata": {},
     "output_type": "execute_result"
    },
    {
     "data": {
      "image/png": "[encoded data removed]",
      "text/plain": [
       "<Figure size 842.4x595.44 with 1 Axes>"
      ]
     },
     "metadata": {},
     "output_type": "display_data"
    }
   ],
   "source": [
    "sns.set(rc={'figure.figsize':(11.7,8.27)})\n",
    "# Density Plot and Histogram of act_dist\n",
    "# sns.distplot(subset['arr_delay'], hist = False, kde = True,\n",
    "#                  kde_kws = {'shade': True, 'linewidth': 3}, \n",
    "#                   label = airline)\n",
    "# 'shade': True can be used to compare multiple density plot\n",
    "# rug=True , for showing all detailed data\n",
    "sns_plot = sns.distplot(dist, hist=True, kde=True, \n",
    "             bins=bin_values, color = 'darkblue', \n",
    "             hist_kws={'edgecolor':'black'},\n",
    "             kde_kws={'linewidth': 4})\n",
    "sns_plot.set(xlabel='measurement error')"
   ]
  },
  {
   "cell_type": "markdown",
   "id": "0e691caa",
   "metadata": {},
   "source": [
    "Multimode denotes measurement distribution over different randomly picked up points."
   ]
  },
  {
   "cell_type": "code",
   "execution_count": 108,
   "id": "425d1b63",
   "metadata": {},
   "outputs": [],
   "source": [
    "def variance(data, ddof=0):\n",
    "    n = len(data)\n",
    "    mean = sum(data) / n\n",
    "    return sum((x - mean) ** 2 for x in data) / (n - ddof)\n",
    "def stdev(data):\n",
    "    var = variance(data)\n",
    "    std_dev = math.sqrt(var)\n",
    "    return std_dev"
   ]
  },
  {
   "cell_type": "code",
   "execution_count": 109,
   "id": "d0dda529",
   "metadata": {},
   "outputs": [
    {
     "data": {
      "text/plain": [
       "0.07915516240539047"
      ]
     },
     "execution_count": 109,
     "metadata": {},
     "output_type": "execute_result"
    }
   ],
   "source": [
    "stdev(dist)"
   ]
  }
 ],
 "metadata": {
  "kernelspec": {
   "display_name": "Python 3",
   "language": "python",
   "name": "python3"
  },
  "language_info": {
   "codemirror_mode": {
    "name": "ipython",
    "version": 3
   },
   "file_extension": ".py",
   "mimetype": "text/x-python",
   "name": "python",
   "nbconvert_exporter": "python",
   "pygments_lexer": "ipython3",
   "version": "3.7.4"
  }
 },
 "nbformat": 4,
 "nbformat_minor": 5
}
