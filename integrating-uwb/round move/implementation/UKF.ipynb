{
 "cells": [
  {
   "cell_type": "markdown",
   "id": "2fa26e9e",
   "metadata": {},
   "source": [
    "## 2D Tracking Problem"
   ]
  },
  {
   "cell_type": "code",
   "execution_count": 2,
   "id": "932eccd9",
   "metadata": {},
   "outputs": [],
   "source": [
    "from filterpy.kalman import JulierSigmaPoints\n",
    "\n",
    "sigmas = JulierSigmaPoints(n=2, kappa=1)\n",
    "\n",
    "def f_cv(x, dt):\n",
    "    \"\"\" state transition function for a \n",
    "    constant velocity robot\"\"\"\n",
    "    \n",
    "    F = np.array([[1, dt, 0,  0],\n",
    "                  [0,  1, 0,  0],\n",
    "                  [0,  0, 1, dt],\n",
    "                  [0,  0, 0,  1]])\n",
    "    return np.dot(F, x)\n",
    "\n",
    "def h_cv(x):\n",
    "    return x[[0, 2]]"
   ]
  },
  {
   "cell_type": "code",
   "execution_count": 3,
   "id": "b7363bdc",
   "metadata": {},
   "outputs": [],
   "source": [
    "import numpy as np\n",
    "import pandas as pd\n",
    "from numpy import random\n",
    "from numpy.random import randn\n",
    "import matplotlib.pyplot as plt\n",
    "from filterpy.kalman import KalmanFilter, UnscentedKalmanFilter, MerweScaledSigmaPoints\n",
    "from filterpy.common import Q_discrete_white_noise\n",
    "import kf_book.book_plots as bp\n",
    "\n",
    "df = pd.read_csv('pentagon.csv')\n",
    "uwb_x = df.uwb_x\n",
    "uwb_y = df.uwb_y\n",
    "vel_linear_x = df['vel_linear_x'].fillna(0.0)\n",
    "\n",
    "# first nonzero value for uwb_x\n",
    "ini_index = uwb_x.ne(0).idxmax()\n",
    "\n",
    "process_std = 0.028\n",
    "process_var = 0.028 ** 2\n",
    "process_var_lateral = 0.019 ** 2\n",
    "sensor_std = 0.077\n",
    "sensor_var = 0.077 ** 2\n",
    "sensor_var_lateral = 0.125 ** 2\n",
    "sensor_bigger_var = 0.3 ** 2\n",
    "\n",
    "dt = 1.0\n",
    "# KF for comparison\n",
    "kf = KalmanFilter(4, 2)\n",
    "kf.x = np.array([uwb_x[ini_index], vel_linear_x[0], uwb_y[ini_index], 0.])\n",
    "kf.R = np.diag([sensor_var, sensor_var_lateral])\n",
    "kf.F = np.array([[1, dt, 0, 0], \n",
    "                 [0, 1, 0, 0],\n",
    "                 [0, 0, 1, dt],\n",
    "                 [0, 0, 0, 1]])\n",
    "kf.H = np.array([[1, 0, 0, 0],\n",
    "                 [0, 0, 1, 0]])\n",
    " \n",
    "kf.Q[0:2, 0:2] = Q_discrete_white_noise(2, dt=1, var=process_var)\n",
    "kf.Q[2:4, 2:4] = Q_discrete_white_noise(2, dt=1, var=process_var_lateral)\n",
    "\n",
    "zs = [np.array([uwb_x[i], \n",
    "                uwb_y[i]]) for i in range(ini_index, len(uwb_x))]\n",
    "\n",
    "xs, _, _, _ = kf.batch_filter(zs)\n",
    "\n",
    "# UKF implementation\n",
    "\n",
    "sigmas = MerweScaledSigmaPoints(4, alpha=.1, beta=2., kappa=1.)\n",
    "ukf = UnscentedKalmanFilter(dim_x=4, dim_z=2, fx=f_cv,\n",
    "          hx=h_cv, dt=dt, points=sigmas)\n",
    "ukf.x = np.array([uwb_x[ini_index], vel_linear_x[0], uwb_y[ini_index], 0.])\n",
    "ukf.R = np.diag([sensor_var, sensor_var_lateral])\n",
    "ukf.Q[0:2, 0:2] = Q_discrete_white_noise(2, dt=1, var=process_var)\n",
    "ukf.Q[2:4, 2:4] = Q_discrete_white_noise(2, dt=1, var=process_var_lateral)\n",
    "\n",
    "# uxs = []\n",
    "# for z in zs:\n",
    "#     ukf.predict()\n",
    "#     ukf.update(z)\n",
    "#     uxs.append(ukf.x.copy())\n",
    "uxs, covs = ukf.batch_filter(zs)\n",
    "Ms, P, K = ukf.rts_smoother(uxs, covs)"
   ]
  },
  {
   "cell_type": "code",
   "execution_count": 4,
   "id": "c631efa3",
   "metadata": {},
   "outputs": [
    {
     "data": {
      "text/plain": [
       "array([[ 3.84985577e+00,  4.01015237e-04,  6.70722527e-01,\n",
       "        -1.17034978e-04],\n",
       "       [ 3.85026189e+00,  4.11230996e-04,  6.70601091e-01,\n",
       "        -1.25836802e-04],\n",
       "       [ 3.85067867e+00,  4.22333770e-04,  6.70458858e-01,\n",
       "        -1.58628527e-04],\n",
       "       ...,\n",
       "       [ 5.52000000e+00,  1.36569105e-14,  5.90000000e-01,\n",
       "        -4.64549856e-16],\n",
       "       [ 5.52000000e+00,  1.12998883e-14,  5.90000000e-01,\n",
       "        -5.78052317e-16],\n",
       "       [ 5.52000000e+00,  1.07377431e-14,  5.90000000e-01,\n",
       "        -5.98287607e-16]])"
      ]
     },
     "execution_count": 4,
     "metadata": {},
     "output_type": "execute_result"
    }
   ],
   "source": [
    "Ms"
   ]
  },
  {
   "cell_type": "code",
   "execution_count": 5,
   "id": "78225dca",
   "metadata": {
    "scrolled": true
   },
   "outputs": [
    {
     "name": "stdout",
     "output_type": "stream",
     "text": [
      "UKF standard deviation 0.000 meters\n"
     ]
    },
    {
     "data": {
      "image/png": "[encoded data removed]",
      "text/plain": [
       "<Figure size 432x288 with 1 Axes>"
      ]
     },
     "metadata": {
      "needs_background": "light"
     },
     "output_type": "display_data"
    }
   ],
   "source": [
    "uxs = np.array(uxs)\n",
    "# print(uxs)\n",
    "plt.plot(Ms[:, 0], Ms[:, 2])\n",
    "plt.plot(uwb_x[ini_index:], uwb_y[ini_index:])\n",
    "plt.xlabel('X-Coordinate (m)')\n",
    "plt.ylabel('Y-Coordinate (m)')\n",
    "# bp.plot_measurements(zs[:, 0], zs[:, 1])\n",
    "print('UKF standard deviation {:.3f} meters'.format(np.std(uxs - xs)))"
   ]
  },
  {
   "cell_type": "code",
   "execution_count": 6,
   "id": "c6b9067b",
   "metadata": {},
   "outputs": [],
   "source": [
    "from math import tan, sin, cos, sqrt, atan2\n",
    "\n",
    "def move(x, dt, u, wheelbase):\n",
    "    hdg = x[2]\n",
    "    vel = u[0]\n",
    "    steering_angle = u[1]\n",
    "    dist = vel * dt\n",
    "\n",
    "    if abs(steering_angle) > 0.001: # is robot turning?\n",
    "        beta = (dist / wheelbase) * tan(steering_angle)\n",
    "        r = wheelbase / tan(steering_angle) # radius\n",
    "\n",
    "        sinh, sinhb = sin(hdg), sin(hdg + beta)\n",
    "        cosh, coshb = cos(hdg), cos(hdg + beta)\n",
    "        return x + np.array([-r*sinh + r*sinhb, \n",
    "                              r*cosh - r*coshb, beta])\n",
    "    else: # moving in straight line\n",
    "        return x + np.array([dist*cos(hdg), dist*sin(hdg), 0])"
   ]
  },
  {
   "cell_type": "code",
   "execution_count": 7,
   "id": "91e05ead",
   "metadata": {},
   "outputs": [],
   "source": [
    "def normalize_angle(x):\n",
    "    x = x % (2 * np.pi)    # force in range [0, 2 pi)\n",
    "    if x > np.pi:          # move to [-pi, pi)\n",
    "        x -= 2 * np.pi\n",
    "    return x"
   ]
  },
  {
   "cell_type": "code",
   "execution_count": 8,
   "id": "fe9fd347",
   "metadata": {},
   "outputs": [],
   "source": [
    "def residual_h(a, b):\n",
    "    y = a - b\n",
    "    # data in format [dist_1, bearing_1, dist_2, bearing_2,...]\n",
    "    for i in range(0, len(y), 2):\n",
    "        y[i + 1] = normalize_angle(y[i + 1])\n",
    "    return y\n",
    "\n",
    "def residual_x(a, b):\n",
    "    y = a - b\n",
    "    y[2] = normalize_angle(y[2])\n",
    "    return y"
   ]
  },
  {
   "cell_type": "code",
   "execution_count": 9,
   "id": "a52f0e69",
   "metadata": {},
   "outputs": [],
   "source": [
    "def Hx(x, landmarks):\n",
    "    \"\"\" takes a state variable and returns the measurement\n",
    "    that would correspond to that state. \"\"\"\n",
    "    hx = []\n",
    "    for lmark in landmarks:\n",
    "        px, py = lmark\n",
    "        dist = sqrt((px - x[0])**2 + (py - x[1])**2)\n",
    "        angle = atan2(py - x[1], px - x[0])\n",
    "        hx.extend([dist, normalize_angle(angle - x[2])])\n",
    "    return np.array(hx)"
   ]
  },
  {
   "cell_type": "code",
   "execution_count": 10,
   "id": "a404b531",
   "metadata": {},
   "outputs": [],
   "source": [
    "def state_mean(sigmas, Wm):\n",
    "    x = np.zeros(3)\n",
    "\n",
    "    sum_sin = np.sum(np.dot(np.sin(sigmas[:, 2]), Wm))\n",
    "    sum_cos = np.sum(np.dot(np.cos(sigmas[:, 2]), Wm))\n",
    "    x[0] = np.sum(np.dot(sigmas[:, 0], Wm))\n",
    "    x[1] = np.sum(np.dot(sigmas[:, 1], Wm))\n",
    "    x[2] = atan2(sum_sin, sum_cos)\n",
    "    return x\n",
    "\n",
    "def z_mean(sigmas, Wm):\n",
    "    z_count = sigmas.shape[1]\n",
    "    x = np.zeros(z_count)\n",
    "\n",
    "    for z in range(0, z_count, 2):\n",
    "        sum_sin = np.sum(np.dot(np.sin(sigmas[:, z+1]), Wm))\n",
    "        sum_cos = np.sum(np.dot(np.cos(sigmas[:, z+1]), Wm))\n",
    "\n",
    "        x[z] = np.sum(np.dot(sigmas[:,z], Wm))\n",
    "        x[z+1] = atan2(sum_sin, sum_cos)\n",
    "    return x"
   ]
  },
  {
   "cell_type": "code",
   "execution_count": 11,
   "id": "62d0e32a",
   "metadata": {},
   "outputs": [],
   "source": [
    "from filterpy.stats import plot_covariance_ellipse\n",
    "\n",
    "dt = 1.0\n",
    "wheelbase = 0.5\n",
    "\n",
    "def run_localization(\n",
    "    cmds, landmarks, sigma_vel, sigma_steer, sigma_range, \n",
    "    sigma_bearing, ellipse_step=1, step=10):\n",
    "\n",
    "    plt.figure()\n",
    "    points = MerweScaledSigmaPoints(n=3, alpha=.00001, beta=2, kappa=0, \n",
    "                                    subtract=residual_x)\n",
    "    ukf = UnscentedKalmanFilter(dim_x=3, dim_z=2*len(landmarks), fx=move, hx=Hx,\n",
    "              dt=dt, points=points, x_mean_fn=state_mean, \n",
    "              z_mean_fn=z_mean, residual_x=residual_x, \n",
    "              residual_z=residual_h)\n",
    "\n",
    "    ukf.x = np.array([2, 6, .3])\n",
    "    ukf.P = np.diag([.1, .1, .05])\n",
    "    ukf.R = np.diag([sigma_range**2, \n",
    "                     sigma_bearing**2]*len(landmarks))\n",
    "    ukf.Q = np.eye(3)*0.0001\n",
    "    \n",
    "    sim_pos = ukf.x.copy()\n",
    "    \n",
    "    # plot landmarks\n",
    "    if len(landmarks) > 0:\n",
    "        plt.scatter(landmarks[:, 0], landmarks[:, 1], \n",
    "                    marker='s', s=60)\n",
    "    \n",
    "    track = []\n",
    "    for i, u in enumerate(cmds):     \n",
    "        sim_pos = move(sim_pos, dt/step, u, wheelbase)\n",
    "        track.append(sim_pos)\n",
    "\n",
    "        if i % step == 0:\n",
    "            ukf.predict(u=u, wheelbase=wheelbase)\n",
    "\n",
    "            if i % ellipse_step == 0:\n",
    "                plot_covariance_ellipse(\n",
    "                    (ukf.x[0], ukf.x[1]), ukf.P[0:2, 0:2], std=6,\n",
    "                     facecolor='k', alpha=0.3)\n",
    "\n",
    "            x, y = sim_pos[0], sim_pos[1]\n",
    "            z = []\n",
    "            for lmark in landmarks:\n",
    "                dx, dy = lmark[0] - x, lmark[1] - y\n",
    "                d = sqrt(dx**2 + dy**2) + randn()*sigma_range\n",
    "                bearing = atan2(lmark[1] - y, lmark[0] - x)\n",
    "                a = (normalize_angle(bearing - sim_pos[2] + \n",
    "                     randn()*sigma_bearing))\n",
    "                z.extend([d, a])            \n",
    "            ukf.update(z, landmarks=landmarks)\n",
    "\n",
    "            if i % ellipse_step == 0:\n",
    "                plot_covariance_ellipse(\n",
    "                    (ukf.x[0], ukf.x[1]), ukf.P[0:2, 0:2], std=6,\n",
    "                     facecolor='g', alpha=0.8)\n",
    "    track = np.array(track)\n",
    "    plt.plot(track[:, 0], track[:,1], color='k', lw=2)\n",
    "    plt.axis('equal')\n",
    "    plt.title(\"UKF Robot localization\")\n",
    "    plt.show()\n",
    "    return ukf"
   ]
  },
  {
   "cell_type": "code",
   "execution_count": 12,
   "id": "001756c0",
   "metadata": {},
   "outputs": [
    {
     "data": {
      "image/png": "[encoded data removed]",
      "text/plain": [
       "<Figure size 432x288 with 1 Axes>"
      ]
     },
     "metadata": {
      "needs_background": "light"
     },
     "output_type": "display_data"
    },
    {
     "name": "stdout",
     "output_type": "stream",
     "text": [
      "Final P: [0.00254195 0.00253867 0.00056879]\n"
     ]
    }
   ],
   "source": [
    "landmarks = np.array([[0, 0], [8.692, -0.347], [8.692, 5.519], [0, 5.295]])\n",
    "# At the same time of remote control, the cmd should also be recorded directly or derived!\n",
    "\n",
    "dt = 0.1\n",
    "wheelbase = 0.5\n",
    "sigma_range=0.3\n",
    "sigma_bearing=0.1\n",
    "\n",
    "def turn(v, t0, t1, steps):\n",
    "    return [[v, a] for a in np.linspace(\n",
    "                 np.radians(t0), np.radians(t1), steps)]  \n",
    "\n",
    "for _ in range(4):\n",
    "    # accelerate from a stop\n",
    "    cmds = [[v, .0] for v in np.linspace(0.001, 1.1, 30)]\n",
    "    cmds.extend([cmds[-1]]*50)\n",
    "\n",
    "    # turn left\n",
    "    v = cmds[-1][0]\n",
    "    cmds.extend(turn(v, 0, 2, 15))\n",
    "    cmds.extend([cmds[-1]]*100)\n",
    "\n",
    "ukf = run_localization(\n",
    "    cmds, landmarks, sigma_vel=0.1, sigma_steer=np.radians(1),\n",
    "    sigma_range=0.3, sigma_bearing=0.1)\n",
    "print('Final P:', ukf.P.diagonal())"
   ]
  },
  {
   "cell_type": "code",
   "execution_count": null,
   "id": "c9b5e2a1",
   "metadata": {},
   "outputs": [],
   "source": []
  }
 ],
 "metadata": {
  "kernelspec": {
   "display_name": "Python 3",
   "language": "python",
   "name": "python3"
  },
  "language_info": {
   "codemirror_mode": {
    "name": "ipython",
    "version": 3
   },
   "file_extension": ".py",
   "mimetype": "text/x-python",
   "name": "python",
   "nbconvert_exporter": "python",
   "pygments_lexer": "ipython3",
   "version": "3.7.4"
  }
 },
 "nbformat": 4,
 "nbformat_minor": 5
}
