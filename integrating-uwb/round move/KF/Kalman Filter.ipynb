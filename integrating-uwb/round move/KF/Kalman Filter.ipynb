{
 "cells": [
  {
   "cell_type": "code",
   "execution_count": null,
   "id": "be9ca43c",
   "metadata": {},
   "outputs": [],
   "source": [
    "import numpy as np\n",
    "import pandas as pd\n",
    "from numpy import random\n",
    "from numpy.random import randn\n",
    "import matplotlib.pyplot as plt\n",
    "from filterpy.kalman import KalmanFilter\n",
    "from filterpy.common import Q_discrete_white_noise\n",
    "import kf_book.book_plots as bp\n",
    "\n",
    "df = pd.read_csv('sensorData.csv')\n",
    "uwb_x = df.uwb_x\n",
    "uwb_y = df.uwb_y\n",
    "vel_linear_x = df['vel_linear_x'].fillna(0.0)"
   ]
  },
  {
   "cell_type": "code",
   "execution_count": null,
   "id": "270f3dea",
   "metadata": {},
   "outputs": [],
   "source": [
    "len(vel_linear_x)"
   ]
  },
  {
   "cell_type": "code",
   "execution_count": null,
   "id": "ecbfb11e",
   "metadata": {},
   "outputs": [],
   "source": [
    "type(uwb_x)"
   ]
  },
  {
   "cell_type": "code",
   "execution_count": null,
   "id": "4e24b641",
   "metadata": {},
   "outputs": [],
   "source": [
    "uwbXArray= uwb_x.to_numpy()"
   ]
  },
  {
   "cell_type": "code",
   "execution_count": null,
   "id": "10181e4a",
   "metadata": {},
   "outputs": [],
   "source": [
    "uwbXArray"
   ]
  },
  {
   "cell_type": "code",
   "execution_count": null,
   "id": "046faa75",
   "metadata": {},
   "outputs": [],
   "source": [
    "len(uwbXArray)"
   ]
  },
  {
   "cell_type": "code",
   "execution_count": null,
   "id": "6de3f8f4",
   "metadata": {},
   "outputs": [],
   "source": [
    "len(uwb_x)"
   ]
  },
  {
   "cell_type": "code",
   "execution_count": null,
   "id": "aa9313ae",
   "metadata": {},
   "outputs": [],
   "source": [
    "# first nonzero value for uwb_x\n",
    "ini_index = uwb_x.ne(0).idxmax()"
   ]
  },
  {
   "cell_type": "code",
   "execution_count": null,
   "id": "cdc9f65d",
   "metadata": {},
   "outputs": [],
   "source": [
    "ini_index"
   ]
  },
  {
   "cell_type": "code",
   "execution_count": null,
   "id": "9f5683b7",
   "metadata": {},
   "outputs": [],
   "source": [
    "uwb_y[ini_index]"
   ]
  },
  {
   "cell_type": "code",
   "execution_count": null,
   "id": "20343f4c",
   "metadata": {},
   "outputs": [],
   "source": [
    "def predict(pos, movement):\n",
    "    return gaussian(pos.mean + movement.mean, pos.var + movement.var)\n",
    "\n",
    "def gaussian_multiply(g1, g2):\n",
    "    mean = (g1.var * g2.mean + g2.var * g1.mean) / (g1.var + g2.var)\n",
    "    variance = (g1.var * g2.var) / (g1.var + g2.var)\n",
    "    return gaussian(mean, variance)\n",
    "\n",
    "def update(prior, likelihood):\n",
    "    posterior = gaussian_multiply(likelihood, prior)\n",
    "    return posterior"
   ]
  },
  {
   "cell_type": "code",
   "execution_count": null,
   "id": "fbfbbb3a",
   "metadata": {},
   "outputs": [],
   "source": [
    "import kf_book.kf_internal as kf_internal\n",
    "from collections import namedtuple\n",
    "gaussian = namedtuple('Gaussian', ['mean', 'var'])\n",
    "gaussian.__repr__ = lambda s: '(={:.3f}, 2={:.3f})'.format(s[0], s[1])\n",
    "# note: A large variance implies that confidence is very low, \n",
    "# so the filter estimates the position to be very close to the measurement\n",
    "# specific to the robot\n",
    "process_var = 0.028 ** 2\n",
    "sensor_var = 0.077 ** 2\n",
    "# sensor_var = 0.3 ** 2\n",
    "# initial uwb_x: around 2 when real tag value received and written, otherwise 0.0\n",
    "x = gaussian(uwb_x[ini_index], sensor_var) # robot's initial position(x-coordinate): first non-zero value of uwb_x\n",
    "\n",
    "# if changed to 0.1 the kf precision will be lower\n",
    "dt = 0.01\n",
    "\n",
    "# measurements are uwb_x\n",
    "# Kalman filter\n",
    "print('    PREDICT\\t\\tMEASURE    UPDATE')\n",
    "print('  x\\t   var\\t\\tz\\t  x\\t  var')\n",
    "# perform kf on measurement\n",
    "for i, z in enumerate(uwb_x):\n",
    "    velocity = vel_linear_x[i]\n",
    "    process_model = gaussian(velocity*dt, process_var)\n",
    "    prior = predict(x, process_model)\n",
    "    likelihood = gaussian(z, sensor_var)\n",
    "    x = update(prior, likelihood)\n",
    "    \n",
    "    kf_internal.print_gh(prior, x, z)\n",
    "print('final estimate X-coordinate:\\t{:10.3f} m'.format(x.mean))\n",
    "print('tag final position:\\t\\t{:10.3f} m'.format(uwb_x.iloc[-1]))"
   ]
  },
  {
   "cell_type": "code",
   "execution_count": null,
   "id": "f6779d94",
   "metadata": {},
   "outputs": [],
   "source": [
    "from kf_book import book_plots as book_plots\n",
    "from ipywidgets import interact\n",
    "from ipywidgets.widgets import IntSlider\n",
    "\n",
    "# save output in these lists for plotting\n",
    "xs, predictions = [], []\n",
    "\n",
    "# process_model = gaussian(velocity, process_var) \n",
    "\n",
    "# perform Kalman filter\n",
    "# x = gaussian(0., 20.**2)\n",
    "for z in uwb_x:    \n",
    "    prior = predict(x, process_model)\n",
    "    likelihood = gaussian(z, sensor_var)\n",
    "    x = update(prior, likelihood)\n",
    "\n",
    "    # save results\n",
    "    predictions.append(prior.mean)\n",
    "    xs.append(x.mean)\n",
    "\n",
    "def plot_filter(step):\n",
    "    plt.cla()\n",
    "    step -= 1\n",
    "    i = step // 3 + 1\n",
    " \n",
    "    book_plots.plot_predictions(predictions[:i])    \n",
    "    zs = uwb_x\n",
    "    if step % 3 == 0:\n",
    "        book_plots.plot_measurements(zs[:i-1])\n",
    "        book_plots.plot_filter(xs[:i-1])\n",
    "    elif step % 3 == 1:\n",
    "        book_plots.plot_measurements(zs[:i])\n",
    "        book_plots.plot_filter(xs[:i-1])\n",
    "    else:\n",
    "        book_plots.plot_measurements(zs[:i])\n",
    "        book_plots.plot_filter(xs[:i])\n",
    "    \n",
    "    plt.xlim(-50, len(uwb_x) + 75)\n",
    "    plt.ylim(min(uwb_x) - 0.5, max(uwb_x) + 0.5)\n",
    "    plt.xlabel(\"Number of measurements\")\n",
    "    plt.ylabel(\"X-coordinate (m)\")\n",
    "#     loc=2\n",
    "    plt.legend(loc='lower right');\n",
    "#     plt.savefig('kalman_real_velocity.pdf', dpi=300)\n",
    "# value denotes the initial value of the slider\n",
    "interact(plot_filter, step=IntSlider(value=len(predictions)*3, min=1, max=len(predictions)*3));"
   ]
  },
  {
   "cell_type": "markdown",
   "id": "c95d9b91",
   "metadata": {},
   "source": [
    "Now we try KalmanFilter from filterpy:"
   ]
  },
  {
   "cell_type": "code",
   "execution_count": null,
   "id": "49e54786",
   "metadata": {},
   "outputs": [],
   "source": [
    "def pos_vel_filter(x, P, R, Q=0., dt=1.0):\n",
    "    \"\"\" Returns a KalmanFilter which implements a\n",
    "    constant velocity model for a state [x dx].T\n",
    "    \"\"\"\n",
    "    \n",
    "    kf = KalmanFilter(dim_x=2, dim_z=1)\n",
    "    kf.x = np.array([x[0], x[1]]) # location and velocity\n",
    "    kf.F = np.array([[1., dt],\n",
    "                     [0.,  1.]])  # state transition matrix\n",
    "    kf.H = np.array([[1., 0]])    # Measurement function\n",
    "    kf.R *= R                     # measurement uncertainty\n",
    "    if np.isscalar(P):\n",
    "        kf.P *= P                 # covariance matrix \n",
    "    else:\n",
    "        kf.P[:] = P               # [:] makes deep copy\n",
    "    if np.isscalar(Q):\n",
    "        kf.Q = Q_discrete_white_noise(dim=2, dt=dt, var=Q)\n",
    "    else:\n",
    "        kf.Q[:] = Q\n",
    "    return kf"
   ]
  },
  {
   "cell_type": "code",
   "execution_count": null,
   "id": "70d84f28",
   "metadata": {},
   "outputs": [],
   "source": [
    "dt = 0.01\n",
    "# initial X-coordinate and velocity\n",
    "x = np.array([uwb_x[ini_index], vel_linear_x[0]]) \n",
    "kf = pos_vel_filter(x, P=np.diag([sensor_var, 0.1736111111]), R=sensor_var, Q=process_var, dt=dt)"
   ]
  },
  {
   "cell_type": "code",
   "execution_count": null,
   "id": "7b673bc8",
   "metadata": {},
   "outputs": [],
   "source": [
    "kf"
   ]
  },
  {
   "cell_type": "code",
   "execution_count": null,
   "id": "43fb6968",
   "metadata": {},
   "outputs": [],
   "source": [
    "# try to get turning point of uwb_x\n",
    "from scipy.signal import argrelextrema\n",
    "argrelextrema(uwbXArray, np.less)"
   ]
  },
  {
   "cell_type": "code",
   "execution_count": null,
   "id": "e4d2b051",
   "metadata": {},
   "outputs": [],
   "source": [
    "import math\n",
    "\n",
    "def compute_track(z_var, process_var, count=1, dt=0.01):\n",
    "    \"returns track 1D ndarrays\"\n",
    "    x = uwb_x[ini_index]\n",
    "    z_std = math.sqrt(z_var) \n",
    "    p_std = math.sqrt(process_var)\n",
    "    xs, zs = [], []\n",
    "    for i in range(count - 1):\n",
    "        vel = 0.5 if i < 1957 and vel_linear_x[i] else 0.0\n",
    "        if vel:\n",
    "            v = vel + (randn() * p_std)\n",
    "        else:\n",
    "            v = 0.0\n",
    "        if i < 736 or 1132 <= i < 1530:\n",
    "            x += v*dt        \n",
    "        else:\n",
    "            x -= v*dt\n",
    "        xs.append(x)\n",
    "        zs.append(x + randn() * z_std)        \n",
    "    xs.append(xs[-1])\n",
    "    return np.array(xs)"
   ]
  },
  {
   "cell_type": "code",
   "execution_count": 137,
   "id": "757fb895",
   "metadata": {},
   "outputs": [],
   "source": [
    "from kf_book.mkf_internal import plot_covariance\n",
    "\n",
    "def plot_track(ps, actual, zs, cov, std_scale=1,\n",
    "               plot_P=True, y_lim=None,\n",
    "               xlabel='time', ylabel='position',\n",
    "               title='Kalman Filter'):\n",
    "\n",
    "    count = len(zs)\n",
    "    zs = np.asarray(zs)\n",
    "\n",
    "    cov = np.asarray(cov)\n",
    "    std = std_scale * np.sqrt(cov[:, 0, 0])\n",
    "    std_top = np.minimum(actual+std, [count + 10])\n",
    "    std_btm = np.maximum(actual-std, [-50])\n",
    "\n",
    "    std_top = actual + std\n",
    "    std_btm = actual - std\n",
    "\n",
    "    bp.plot_track(actual, c='k')\n",
    "    bp.plot_measurements(range(1, count + 1), zs)\n",
    "    bp.plot_filter(range(1, count + 1), ps)\n",
    "\n",
    "    plt.plot(std_top, linestyle=':', color='k', lw=1, alpha=0.4)\n",
    "    plt.plot(std_btm, linestyle=':', color='k', lw=1, alpha=0.4)\n",
    "    plt.fill_between(range(len(std_top)), std_top, std_btm,\n",
    "                     facecolor='yellow', alpha=0.2, interpolate=True)\n",
    "    plt.legend(loc=4)\n",
    "    plt.xlabel(xlabel)\n",
    "    plt.ylabel(ylabel)\n",
    "    if y_lim is not None:\n",
    "        plt.ylim(y_lim)\n",
    "    else:\n",
    "        plt.ylim((-50, count + 10))\n",
    "\n",
    "    plt.xlim((-50, count + 50))\n",
    "    plt.title(title)\n",
    "    plt.show()\n",
    "#     plt.savefig('kalman_with_track.pdf', dpi=300)\n",
    "\n",
    "    if plot_P:\n",
    "        ax = plt.subplot(121)\n",
    "        ax.set_title(r\"$\\sigma^2_x$ (pos variance)\")\n",
    "        plot_covariance(cov, (0, 0))\n",
    "        ax = plt.subplot(122)\n",
    "        ax.set_title(r\"$\\sigma^2_\\dot{x}$ (vel variance)\")\n",
    "        plot_covariance(cov, (1, 1))\n",
    "        plt.show()        "
   ]
  },
  {
   "cell_type": "code",
   "execution_count": 145,
   "id": "48d1e131",
   "metadata": {},
   "outputs": [],
   "source": [
    "def run(x0=(0.,0.), P=500, R=0, Q=0, dt=1.0, \n",
    "        track=None, zs=None,\n",
    "        count=0, do_plot=True, **kwargs):\n",
    "    \"\"\"\n",
    "    track is the actual position of the robot, zs are the \n",
    "    corresponding measurements. \n",
    "    \"\"\"\n",
    "\n",
    "    # if no data provided. \n",
    "    if zs is None:\n",
    "        print(f\"Measurements are necessary!\")\n",
    "        \n",
    "    if not track:\n",
    "        print(f\"count = {count}\")\n",
    "        track = compute_track(R, Q, count)\n",
    "\n",
    "    # create the Kalman filter\n",
    "    kf = pos_vel_filter(x0, R=R, P=P, Q=Q, dt=dt)  \n",
    "\n",
    "    # run the kalman filter and store the results\n",
    "    xs, cov = [], []\n",
    "    for z in zs:\n",
    "        kf.predict()\n",
    "        kf.update(z)\n",
    "        xs.append(kf.x)\n",
    "        cov.append(kf.P)\n",
    "\n",
    "    xs, cov = np.array(xs), np.array(cov)\n",
    "    print(f\"cov = {cov}\")\n",
    "    if do_plot:\n",
    "#       plot_track(xs[:, 0], track, zs, cov, dt=dt, **kwargs)  \n",
    "        plot_track(xs[:, 0], track, zs, cov, y_lim=(min(uwb_x) - 0.5, max(uwb_x) + 0.5) , xlabel=\"Number of measurements\", ylabel=\"X-coordinate (m)\", **kwargs)\n",
    "    return xs, cov"
   ]
  },
  {
   "cell_type": "code",
   "execution_count": null,
   "id": "1821ce5f",
   "metadata": {},
   "outputs": [],
   "source": [
    "x"
   ]
  },
  {
   "cell_type": "code",
   "execution_count": 146,
   "id": "9dbe31ba",
   "metadata": {},
   "outputs": [
    {
     "name": "stdout",
     "output_type": "stream",
     "text": [
      "count = 1984\n",
      "cov = [[[0.00573966 0.00555659]\n",
      "  [0.00555659 0.01132149]]\n",
      "\n",
      " [[0.00490411 0.00298531]\n",
      "  [0.00298531 0.00340982]]\n",
      "\n",
      " [[0.00420662 0.00197167]\n",
      "  [0.00197167 0.00193678]]\n",
      "\n",
      " ...\n",
      "\n",
      " [[0.0033859  0.00141202]\n",
      "  [0.00141202 0.00148797]]\n",
      "\n",
      " [[0.0033859  0.00141202]\n",
      "  [0.00141202 0.00148797]]\n",
      "\n",
      " [[0.0033859  0.00141202]\n",
      "  [0.00141202 0.00148797]]]\n"
     ]
    },
    {
     "data": {
      "image/png": "[encoded data removed]",
      "text/plain": [
       "<Figure size 432x288 with 1 Axes>"
      ]
     },
     "metadata": {
      "needs_background": "light"
     },
     "output_type": "display_data"
    },
    {
     "data": {
      "image/png": "[encoded data removed]",
      "text/plain": [
       "<Figure size 432x288 with 2 Axes>"
      ]
     },
     "metadata": {
      "needs_background": "light"
     },
     "output_type": "display_data"
    }
   ],
   "source": [
    "# # initial uncertainty: measurement variance for x-coordinate,\n",
    "# and x-vel (small value means quite certain)\n",
    "# maximum speed for the robot is 1.25 m/s, 3 * sigma = 1.25, sigma ** 2 can be calculated\n",
    "P = np.diag([sensor_var, 0.1736111111])\n",
    "# set do_plot=False if track data is not available\n",
    "Ms, Ps = run(x0=x, count=len(uwb_x), R=sensor_var, Q=process_var, P=P, zs=uwb_x, do_plot=True)"
   ]
  },
  {
   "cell_type": "code",
   "execution_count": null,
   "id": "4525e8d2",
   "metadata": {},
   "outputs": [],
   "source": [
    "from kf_book.mkf_internal import plot_track_ellipses\n",
    "\n",
    "def plot_covariances(count, R, Q=process_var, P=sensor_var, title=''):    \n",
    "    zs = uwb_x\n",
    "    f = pos_vel_filter(x=(uwb_x[ini_index], 0.), R=R, Q=Q, P=P)\n",
    "\n",
    "    xs, cov = [], []\n",
    "    for z in zs:\n",
    "        f.predict()\n",
    "        f.update(z)\n",
    "\n",
    "        xs.append(f.x[0])\n",
    "        cov.append(f.P)\n",
    "    plot_track_ellipses(count, zs, xs, cov, title)\n",
    "\n",
    "plt.figure(figsize=(15,9))\n",
    "plt.subplot(121)\n",
    "plot_covariances(R=sensor_var, Q=process_var, count=len(uwb_x), title='$R = (0.077 ** 2)\\, m^2$')\n",
    "plt.subplot(122)\n",
    "plot_covariances(R=.1, Q=.02, count=len(uwb_x), title='$R = 0.5\\, m^2$')"
   ]
  },
  {
   "cell_type": "markdown",
   "id": "c68ac816",
   "metadata": {},
   "source": [
    "# Batch Processing"
   ]
  },
  {
   "cell_type": "code",
   "execution_count": null,
   "id": "a75582d3",
   "metadata": {},
   "outputs": [],
   "source": [
    "count = len(uwb_x)\n",
    "zs = uwb_x\n",
    "# P = np.diag([500., 49.])\n",
    "f = pos_vel_filter(x=(uwb_x[ini_index], 0.), R=sensor_var, Q=process_var, P=P)\n",
    "xs, _, _, _ = f.batch_filter(zs)\n",
    "\n",
    "book_plots.plot_measurements(range(1, count + 1), zs)\n",
    "book_plots.plot_filter(range(1, count + 1), xs[:, 0])\n",
    "plt.legend(loc='best');"
   ]
  },
  {
   "cell_type": "code",
   "execution_count": null,
   "id": "f452471a",
   "metadata": {},
   "outputs": [],
   "source": [
    "from filterpy.common import Saver\n",
    "f = pos_vel_filter(x=(uwb_x[ini_index], 0.), R=sensor_var, Q=process_var, P=P)\n",
    "s = Saver(f)\n",
    "Xs, Covs, _, _ = f.batch_filter(zs, saver=s)\n",
    "s.to_array()\n",
    "plt.plot(s.y)\n",
    "# plt.savefig('residual.pdf', dpi=300)"
   ]
  },
  {
   "cell_type": "markdown",
   "id": "d780ded9",
   "metadata": {},
   "source": [
    "From above plot we can see noise centered around 0, which proves that the filter is well designed."
   ]
  },
  {
   "cell_type": "markdown",
   "id": "eedc7cbb",
   "metadata": {},
   "source": [
    "## Smoothing the Results"
   ]
  },
  {
   "cell_type": "code",
   "execution_count": null,
   "id": "a38446f1",
   "metadata": {},
   "outputs": [],
   "source": [
    "Ms, Ps, _, _ = f.rts_smoother(Xs, Covs)\n",
    "\n",
    "book_plots.plot_measurements(zs)\n",
    "plt.plot(Xs[:, 0], ls='--', label='Kalman Position')\n",
    "plt.plot(Ms[:, 0], label='RTS Position')\n",
    "plt.legend(loc=4);\n",
    "# plt.savefig('kalman_with_RTS.pdf', dpi=300)"
   ]
  },
  {
   "cell_type": "code",
   "execution_count": null,
   "id": "d8644ee7",
   "metadata": {},
   "outputs": [],
   "source": [
    "plt.plot(Xs[:, 1], ls='--', label='Kalman Velocity')\n",
    "plt.plot(Ms[:, 1], label='RTS Velocity')\n",
    "plt.legend(loc=4)\n",
    "plt.gca().axhline(1, lw=1, c='k');"
   ]
  },
  {
   "cell_type": "code",
   "execution_count": null,
   "id": "88b8e1b4",
   "metadata": {},
   "outputs": [],
   "source": [
    "dx = np.diff(Xs[:, 0], axis=0)"
   ]
  },
  {
   "cell_type": "code",
   "execution_count": null,
   "id": "a0546d6e",
   "metadata": {},
   "outputs": [],
   "source": [
    "len(range(1, len(dx) + 1))"
   ]
  },
  {
   "cell_type": "code",
   "execution_count": null,
   "id": "58063551",
   "metadata": {},
   "outputs": [],
   "source": [
    "plt.scatter(range(0, len(dx) + 1), vel_linear_x, facecolor='none', \n",
    "            edgecolor='k', lw=2, label='Raw velocity')\n",
    "# plt.plot(Xs[:, 1], ls='--', label='Filter')\n",
    "# plt.plot(Ms[:, 1], label='RTS')\n",
    "plt.xlabel(\"Number of Measurements\")\n",
    "plt.ylabel(\"X-velocity (m/s)\")\n",
    "plt.legend(loc='best');\n",
    "# plt.savefig('raw_vel_x.pdf', dpi=300)"
   ]
  },
  {
   "cell_type": "markdown",
   "id": "27193455",
   "metadata": {},
   "source": [
    "## Two Dimensional Kalman FIlter"
   ]
  },
  {
   "cell_type": "code",
   "execution_count": null,
   "id": "175b6a99",
   "metadata": {},
   "outputs": [],
   "source": [
    "from scipy.linalg import block_diag\n",
    "from filterpy.common import Q_discrete_white_noise\n",
    "\n",
    "TwoDTracker = KalmanFilter(dim_x=4, dim_z=2)\n",
    "dt = 0.01\n",
    "TwoDTracker.F = np.array([[1,dt, 0,0],\n",
    "                        [0, 1, 0, 0],\n",
    "                        [0, 0, 1, dt],\n",
    "                        [0, 0, 0, 1]])\n",
    "q = Q_discrete_white_noise(dim=2, dt=dt, var=process_var)\n",
    "TwoDTracker.Q = block_diag(q,q)"
   ]
  },
  {
   "cell_type": "code",
   "execution_count": null,
   "id": "a41ea5d8",
   "metadata": {},
   "outputs": [],
   "source": [
    "TwoDTracker.Q"
   ]
  },
  {
   "cell_type": "code",
   "execution_count": null,
   "id": "09459e41",
   "metadata": {},
   "outputs": [],
   "source": [
    "TwoDTracker.B"
   ]
  },
  {
   "cell_type": "code",
   "execution_count": null,
   "id": "3e0d5a65",
   "metadata": {},
   "outputs": [],
   "source": [
    "# measurements for (x, y)\n",
    "TwoDTracker.H = np.array([[1., 0., 0., 0], [0., 0., 1., 0.]])"
   ]
  },
  {
   "cell_type": "code",
   "execution_count": null,
   "id": "c4d1cc2e",
   "metadata": {},
   "outputs": [],
   "source": [
    "sensor_var_lateral = 0.125 ** 2\n",
    "TwoDTracker.R = np.array([[sensor_var, 0], [0, sensor_var_lateral]])"
   ]
  },
  {
   "cell_type": "code",
   "execution_count": null,
   "id": "d2b26d50",
   "metadata": {},
   "outputs": [],
   "source": [
    "TwoDTracker.R"
   ]
  },
  {
   "cell_type": "code",
   "execution_count": null,
   "id": "378c9c58",
   "metadata": {},
   "outputs": [],
   "source": [
    "# initial pos get from UWB tag, initial x-velocity get from vel_linear_x, y-velocity is always 0.0 m/s\n",
    "TwoDTracker.x = np.array([[uwb_x[ini_index], vel_linear_x[0], uwb_y[ini_index], 0]]).T\n",
    "# since we are quite sure about the initial pose and velocity, so set the covariance matrix P to a small value.\n",
    "TwoDTracker.P = np.eye(4) * 0.5"
   ]
  },
  {
   "cell_type": "markdown",
   "id": "85885aeb",
   "metadata": {},
   "source": [
    "## Implement the Filter"
   ]
  },
  {
   "cell_type": "code",
   "execution_count": 154,
   "id": "06f9d5a2",
   "metadata": {},
   "outputs": [],
   "source": [
    "from filterpy.stats import plot_covariance_ellipse\n",
    "from kf_book.book_plots import plot_filter\n",
    "\n",
    "process_var_lateral = 0.019 ** 2\n",
    "\n",
    "def track():\n",
    "    tracker = KalmanFilter(dim_x=4, dim_z=2)\n",
    "    dt = 0.01\n",
    "    tracker.F = np.array([[1, dt, 0,  0],\n",
    "                          [0,  1, 0,  0],\n",
    "                          [0,  0, 1, dt],\n",
    "                          [0,  0, 0,  1]])\n",
    "    tracker.u = 0.\n",
    "    tracker.H = np.array([[1., 0., 0., 0], [0., 0., 1., 0.]])\n",
    "\n",
    "    tracker.R = np.array([[sensor_var, 0], [0, sensor_var_lateral]])\n",
    "    q_forward = Q_discrete_white_noise(dim=2, dt=dt, var=process_var)\n",
    "    q_lateral = Q_discrete_white_noise(dim=2, dt=dt, var=process_var_lateral)\n",
    "    tracker.Q = block_diag(q_forward, q_lateral)\n",
    "    tracker.x = np.array([[uwb_x[ini_index], vel_linear_x[0], uwb_y[ini_index], 0]]).T\n",
    "    tracker.P = np.eye(4) * 0.5\n",
    "    return tracker\n",
    "\n",
    "# robot single movement\n",
    "N = 735\n",
    "zs = np.array([[uwb_x[i], uwb_y[i]] for i in range(N)])"
   ]
  },
  {
   "cell_type": "code",
   "execution_count": 150,
   "id": "86681909",
   "metadata": {},
   "outputs": [
    {
     "data": {
      "text/plain": [
       "array([[0.  , 0.  ],\n",
       "       [0.  , 0.  ],\n",
       "       [0.  , 0.  ],\n",
       "       ...,\n",
       "       [3.96, 2.19],\n",
       "       [3.96, 2.19],\n",
       "       [3.96, 2.19]])"
      ]
     },
     "execution_count": 150,
     "metadata": {},
     "output_type": "execute_result"
    }
   ],
   "source": [
    "zs"
   ]
  },
  {
   "cell_type": "code",
   "execution_count": 156,
   "id": "6f21eb9d",
   "metadata": {},
   "outputs": [
    {
     "data": {
      "image/png": "[encoded data removed]",
      "text/plain": [
       "<Figure size 432x288 with 1 Axes>"
      ]
     },
     "metadata": {
      "needs_background": "light"
     },
     "output_type": "display_data"
    }
   ],
   "source": [
    "from kf_book.book_plots import plot_measurements\n",
    "\n",
    "# run filter\n",
    "robot_tracker = track()\n",
    "# batch_filter is quite slow\n",
    "mu, cov, _, _ = robot_tracker.batch_filter(zs)\n",
    "\n",
    "for x, P in zip(mu, cov):\n",
    "#     covariance or x and y\n",
    "    cov = np.array([[P[0, 0], P[2, 0]],\n",
    "                   [P[0, 2], P[2, 2]]])\n",
    "    mean = (x[0, 0], x[2, 0])\n",
    "#     print(f\"mean = {mean}, \\n cov = {cov}\")\n",
    "#     plot_covariance(cov, mean)\n",
    "    plot_covariance_ellipse(mean, cov=cov, fc='g', std=3, alpha=0.5)\n",
    "\n",
    "# plot result\n",
    "plot_filter(mu[:, 0], mu[:, 2])\n",
    "plot_measurements(zs[:, 0], zs[:, 1])\n",
    "plt.title('Kalman Filter position for single robot movement with covariance')\n",
    "plt.xlabel(\"X-coordinate (m)\")\n",
    "plt.ylabel(\"Y-coordinate (m)\")\n",
    "plt.legend(loc='best')\n",
    "# plt.show()\n",
    "# plt.savefig('single_move.pdf', dpi=300)"
   ]
  },
  {
   "cell_type": "markdown",
   "id": "3dc01fc5",
   "metadata": {},
   "source": [
    "## circle movement"
   ]
  },
  {
   "cell_type": "code",
   "execution_count": 163,
   "id": "41f33ff9",
   "metadata": {},
   "outputs": [],
   "source": [
    "df1 = pd.read_csv('oval.csv')\n",
    "uwb_x1 = df1.uwb_x\n",
    "uwb_y1 = df1.uwb_y\n",
    "vel_linear_x1 = df1['vel_linear_x'].fillna(0.0)\n",
    "# first nonzero value for uwb_x\n",
    "ini_index1 = uwb_x1.ne(0).idxmax()"
   ]
  },
  {
   "cell_type": "markdown",
   "id": "733c50e2",
   "metadata": {},
   "source": [
    "Check UWB tag trace:"
   ]
  },
  {
   "cell_type": "code",
   "execution_count": 165,
   "id": "2fb94aa4",
   "metadata": {},
   "outputs": [
    {
     "data": {
      "text/plain": [
       "(<matplotlib.collections.PathCollection at 0x7fc11aa90410>,)"
      ]
     },
     "execution_count": 165,
     "metadata": {},
     "output_type": "execute_result"
    },
    {
     "data": {
      "image/png": "[encoded data removed]",
      "text/plain": [
       "<Figure size 432x288 with 1 Axes>"
      ]
     },
     "metadata": {
      "needs_background": "light"
     },
     "output_type": "display_data"
    }
   ],
   "source": [
    "plot_measurements(uwb_x1, uwb_y1)"
   ]
  },
  {
   "cell_type": "code",
   "execution_count": 167,
   "id": "1c3d08d5",
   "metadata": {},
   "outputs": [
    {
     "data": {
      "image/png": "[encoded data removed]",
      "text/plain": [
       "<Figure size 432x288 with 1 Axes>"
      ]
     },
     "metadata": {
      "needs_background": "light"
     },
     "output_type": "display_data"
    }
   ],
   "source": [
    "def track():\n",
    "    tracker = KalmanFilter(dim_x=4, dim_z=2)\n",
    "    dt = 0.01\n",
    "    tracker.F = np.array([[1, dt, 0,  0],\n",
    "                          [0,  1, 0,  0],\n",
    "                          [0,  0, 1, dt],\n",
    "                          [0,  0, 0,  1]])\n",
    "    tracker.u = 0.\n",
    "    tracker.H = np.array([[1., 0., 0., 0], [0., 0., 1., 0.]])\n",
    "\n",
    "    tracker.R = np.array([[sensor_var, 0], [0, sensor_var_lateral]])\n",
    "    q_forward = Q_discrete_white_noise(dim=2, dt=dt, var=process_var)\n",
    "    q_lateral = Q_discrete_white_noise(dim=2, dt=dt, var=process_var_lateral)\n",
    "    tracker.Q = block_diag(q_forward, q_lateral)\n",
    "    tracker.x = np.array([[uwb_x1[ini_index1], vel_linear_x1[0], uwb_y1[ini_index1], 0]]).T\n",
    "    tracker.P = np.eye(4) * 0.5\n",
    "    return tracker\n",
    "# robot circle movement\n",
    "N = len(uwb_x1)\n",
    "zs1 = np.array([[uwb_x1[i], uwb_y1[i]] for i in range(N)])\n",
    "\n",
    "# run filter\n",
    "robot_tracker = track()\n",
    "# batch_filter is quite slow\n",
    "mu, cov, _, _ = robot_tracker.batch_filter(zs1)\n",
    "\n",
    "for x, P in zip(mu, cov):\n",
    "#     covariance or x and y\n",
    "    cov = np.array([[P[0, 0], P[2, 0]],\n",
    "                   [P[0, 2], P[2, 2]]])\n",
    "    mean = (x[0, 0], x[2, 0])\n",
    "#     print(f\"mean = {mean}, \\n cov = {cov}\")\n",
    "#     plot_covariance(cov, mean)\n",
    "    plot_covariance_ellipse(mean, cov=cov, fc='g', std=3, alpha=0.5)\n",
    "\n",
    "# plot result\n",
    "plot_filter(mu[:, 0], mu[:, 2])\n",
    "plot_measurements(zs1[:, 0], zs1[:, 1])\n",
    "plt.title('Kalman Filter position for robot oval movement with covariance')\n",
    "plt.xlabel(\"X-coordinate (m)\")\n",
    "plt.ylabel(\"Y-coordinate (m)\")\n",
    "plt.legend(loc='best')\n",
    "# plt.show()\n",
    "# plt.savefig('oval.pdf', dpi=300)"
   ]
  },
  {
   "cell_type": "markdown",
   "id": "cbc38a6a",
   "metadata": {},
   "source": [
    "## Trapezoid movement"
   ]
  },
  {
   "cell_type": "code",
   "execution_count": 168,
   "id": "e6a02e0e",
   "metadata": {},
   "outputs": [],
   "source": [
    "df2 = pd.read_csv('pentagon.csv')\n",
    "uwb_x2 = df2.uwb_x\n",
    "uwb_y2 = df2.uwb_y\n",
    "vel_linear_x2 = df2['vel_linear_x'].fillna(0.0)\n",
    "# first nonzero value for uwb_x\n",
    "ini_index2 = uwb_x2.ne(0).idxmax()"
   ]
  },
  {
   "cell_type": "code",
   "execution_count": 170,
   "id": "5848baf1",
   "metadata": {},
   "outputs": [
    {
     "data": {
      "text/plain": [
       "(<matplotlib.collections.PathCollection at 0x7fc11b6a1450>,)"
      ]
     },
     "execution_count": 170,
     "metadata": {},
     "output_type": "execute_result"
    },
    {
     "data": {
      "image/png": "[encoded data removed]",
      "text/plain": [
       "<Figure size 432x288 with 1 Axes>"
      ]
     },
     "metadata": {
      "needs_background": "light"
     },
     "output_type": "display_data"
    }
   ],
   "source": [
    "plot_measurementsurements(uwb_x2, uwb_y2)"
   ]
  },
  {
   "cell_type": "code",
   "execution_count": 175,
   "id": "27cf5e40",
   "metadata": {},
   "outputs": [
    {
     "data": {
      "image/png": "[encoded data removed]",
      "text/plain": [
       "<Figure size 432x288 with 1 Axes>"
      ]
     },
     "metadata": {
      "needs_background": "light"
     },
     "output_type": "display_data"
    }
   ],
   "source": [
    "def track():\n",
    "    tracker = KalmanFilter(dim_x=4, dim_z=2)\n",
    "    dt = 0.01\n",
    "    tracker.F = np.array([[1, dt, 0,  0],\n",
    "                          [0,  1, 0,  0],\n",
    "                          [0,  0, 1, dt],\n",
    "                          [0,  0, 0,  1]])\n",
    "    tracker.u = 0.\n",
    "    tracker.H = np.array([[1., 0., 0., 0], [0., 0., 1., 0.]])\n",
    "\n",
    "    tracker.R = np.array([[sensor_var, 0], [0, sensor_var_lateral]])\n",
    "    q_forward = Q_discrete_white_noise(dim=2, dt=dt, var=process_var)\n",
    "    q_lateral = Q_discrete_white_noise(dim=2, dt=dt, var=process_var_lateral)\n",
    "    tracker.Q = block_diag(q_forward, q_lateral)\n",
    "    tracker.x = np.array([[uwb_x2[ini_index2], vel_linear_x2[0], uwb_y2[ini_index2], 0]]).T\n",
    "    tracker.P = np.eye(4) * 0.5\n",
    "    return tracker\n",
    "# robot trapezoid movement\n",
    "N = len(uwb_x2)\n",
    "zs2 = np.array([[uwb_x2[i], uwb_y2[i]] for i in range(N)])\n",
    "\n",
    "# run filter\n",
    "robot_tracker = track()\n",
    "# batch_filter is quite slow\n",
    "mu, cov, _, _ = robot_tracker.batch_filter(zs2)\n",
    "\n",
    "for x, P in zip(mu, cov):\n",
    "#     covariance or x and y\n",
    "    cov = np.array([[P[0, 0], P[2, 0]],\n",
    "                   [P[0, 2], P[2, 2]]])\n",
    "    mean = (x[0, 0], x[2, 0])\n",
    "#     print(f\"mean = {mean}, \\n cov = {cov}\")\n",
    "#     plot_covariance(cov, mean)\n",
    "    plot_covariance_ellipse(mean, cov=cov, fc='g', std=3, alpha=0.5)\n",
    "\n",
    "# plot result\n",
    "plot_filter(mu[:, 0], mu[:, 2])\n",
    "plot_measurements(zs2[:, 0], zs2[:, 1])\n",
    "plt.title('Kalman Filter position for pentagon robot movement with covariance')\n",
    "plt.xlabel(\"X-coordinate (m)\")\n",
    "plt.ylabel(\"Y-coordinate (m)\")\n",
    "plt.legend(loc='best')\n",
    "# plt.show()\n",
    "# plt.savefig('pentagon.pdf', dpi=300)"
   ]
  }
 ],
 "metadata": {
  "kernelspec": {
   "display_name": "Python 3",
   "language": "python",
   "name": "python3"
  },
  "language_info": {
   "codemirror_mode": {
    "name": "ipython",
    "version": 3
   },
   "file_extension": ".py",
   "mimetype": "text/x-python",
   "name": "python",
   "nbconvert_exporter": "python",
   "pygments_lexer": "ipython3",
   "version": "3.7.4"
  }
 },
 "nbformat": 4,
 "nbformat_minor": 5
}
